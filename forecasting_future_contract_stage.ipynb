{
 "nbformat": 4,
 "nbformat_minor": 0,
 "metadata": {
  "colab": {
   "provenance": [],
   "collapsed_sections": [
    "_01Imd1P1YMo",
    "RdMmduLB1gAA",
    "psGoXXPzXxEb"
   ]
  },
  "kernelspec": {
   "display_name": "Python 3",
   "language": "python",
   "name": "python3"
  },
  "language_info": {
   "codemirror_mode": {
    "name": "ipython",
    "version": 3
   },
   "file_extension": ".py",
   "mimetype": "text/x-python",
   "name": "python",
   "nbconvert_exporter": "python",
   "pygments_lexer": "ipython3",
   "version": "3.8.3"
  },
  "accelerator": "GPU"
 },
 "cells": [
  {
   "cell_type": "markdown",
   "source": [
    "# Импорт"
   ],
   "metadata": {
    "collapsed": false
   }
  },
  {
   "cell_type": "code",
   "metadata": {
    "id": "cDd075kQsc12",
    "ExecuteTime": {
     "end_time": "2023-06-11T12:14:50.642053400Z",
     "start_time": "2023-06-11T12:14:47.363340200Z"
    }
   },
   "source": [
    "import gc\n",
    "import os\n",
    "\n",
    "import pandas as pd\n",
    "import numpy as np\n",
    "%matplotlib inline\n",
    "\n",
    "from sklearn.metrics import classification_report\n",
    "from sklearn.metrics import confusion_matrix, ConfusionMatrixDisplay\n",
    "\n",
    "from catboost import CatBoostClassifier"
   ],
   "execution_count": 1,
   "outputs": []
  },
  {
   "cell_type": "markdown",
   "metadata": {
    "id": "RdMmduLB1gAA"
   },
   "source": [
    "# Обработка данных"
   ]
  },
  {
   "cell_type": "markdown",
   "metadata": {
    "id": "xxcMKOMV0U_G"
   },
   "source": [
    "Считывание данных о контрактах"
   ]
  },
  {
   "cell_type": "code",
   "metadata": {
    "colab": {
     "base_uri": "https://localhost:8080/",
     "height": 206
    },
    "id": "q0MqHHaUs3ra",
    "outputId": "d83ad410-95b5-43de-c150-c583510ac007",
    "ExecuteTime": {
     "end_time": "2023-06-11T12:16:04.575720700Z",
     "start_time": "2023-06-11T12:14:50.646067500Z"
    }
   },
   "source": [
    "contract_path = os.path.abspath('C:\\csv\\contracts.csv')\n",
    "dtypes = {'product_code' : 'category', \n",
    "          'customer_legal_form' : 'category', \n",
    "          'supplier_legal_form' : 'category', \n",
    "          'current_contract_stage' : 'category'}\n",
    "parse_dates = ['execution_period_start']\n",
    "data = pd.read_csv(contract_path, dtype = dtypes, parse_dates = parse_dates, infer_datetime_format = True)\n",
    "gc.collect()\n",
    "data['execution_period_start'] = pd.to_datetime(data['execution_period_start'], format = \"%Y-%m-%d\", errors = 'coerce')\n",
    "data['execution_period_end'] = pd.to_datetime(data['execution_period_end'], format = \"%Y-%m-%d\", errors = 'coerce')\n",
    "data.head()"
   ],
   "execution_count": 2,
   "outputs": [
    {
     "name": "stderr",
     "output_type": "stream",
     "text": [
      "C:\\Users\\Данил\\AppData\\Local\\Temp\\ipykernel_12700\\3439507682.py:7: FutureWarning: The argument 'infer_datetime_format' is deprecated and will be removed in a future version. A strict version of it is now the default, see https://pandas.pydata.org/pdeps/0004-consistent-to-datetime-parsing.html. You can safely remove this argument.\n",
      "  data = pd.read_csv(contract_path, dtype = dtypes, parse_dates = parse_dates, infer_datetime_format = True)\n",
      "C:\\Users\\Данил\\AppData\\Local\\Temp\\ipykernel_12700\\3439507682.py:7: DtypeWarning: Columns (10) have mixed types. Specify dtype option on import or set low_memory=False.\n",
      "  data = pd.read_csv(contract_path, dtype = dtypes, parse_dates = parse_dates, infer_datetime_format = True)\n"
     ]
    },
    {
     "data": {
      "text/plain": "         id              reg_num                   publish_date  customer_inn  \\\n0  39372925  2056104253518000008  2018-01-18T12:25:48.307+03:00     561042535   \n1  39141990  2056104253517000135  2018-01-12T11:41:48.714+03:00     561042535   \n2  39452733  2056203249818000006  2018-01-23T09:12:49.012+03:00     562032498   \n3  39762144  1057000290918000009  2018-01-31T18:50:01.658+03:00     570002909   \n4  39348176  2056207055018000003  2018-01-17T16:47:12.637+03:00     562070550   \n\n  customer_legal_form       price execution_period_start execution_period_end  \\\n0               75203    72500.00             2018-01-18           2018-03-31   \n1               75203   991142.46             2017-10-24           2018-12-31   \n2               75203   170000.00             2018-01-22           2018-03-31   \n3               75104   200000.00             2018-01-29           2018-12-31   \n4               75204  6393010.00             2017-06-20           2017-09-30   \n\n                                        product_code supplier_legal_form  \\\n0  <Element '{http://zakupki.gov.ru/oos/types/1}c...               12300   \n1  <Element '{http://zakupki.gov.ru/oos/types/1}c...               12300   \n2  <Element '{http://zakupki.gov.ru/oos/types/1}c...                 NaN   \n3  <Element '{http://zakupki.gov.ru/oos/types/1}c...               12300   \n4  <Element '{http://zakupki.gov.ru/oos/types/1}c...               12300   \n\n  supplier_inn current_contract_stage  \n0    561046931                      E  \n1    561046931                      E  \n2  56207573829                      E  \n3    545019120                      E  \n4    506066768                      E  ",
      "text/html": "<div>\n<style scoped>\n    .dataframe tbody tr th:only-of-type {\n        vertical-align: middle;\n    }\n\n    .dataframe tbody tr th {\n        vertical-align: top;\n    }\n\n    .dataframe thead th {\n        text-align: right;\n    }\n</style>\n<table border=\"1\" class=\"dataframe\">\n  <thead>\n    <tr style=\"text-align: right;\">\n      <th></th>\n      <th>id</th>\n      <th>reg_num</th>\n      <th>publish_date</th>\n      <th>customer_inn</th>\n      <th>customer_legal_form</th>\n      <th>price</th>\n      <th>execution_period_start</th>\n      <th>execution_period_end</th>\n      <th>product_code</th>\n      <th>supplier_legal_form</th>\n      <th>supplier_inn</th>\n      <th>current_contract_stage</th>\n    </tr>\n  </thead>\n  <tbody>\n    <tr>\n      <th>0</th>\n      <td>39372925</td>\n      <td>2056104253518000008</td>\n      <td>2018-01-18T12:25:48.307+03:00</td>\n      <td>561042535</td>\n      <td>75203</td>\n      <td>72500.00</td>\n      <td>2018-01-18</td>\n      <td>2018-03-31</td>\n      <td>&lt;Element '{http://zakupki.gov.ru/oos/types/1}c...</td>\n      <td>12300</td>\n      <td>561046931</td>\n      <td>E</td>\n    </tr>\n    <tr>\n      <th>1</th>\n      <td>39141990</td>\n      <td>2056104253517000135</td>\n      <td>2018-01-12T11:41:48.714+03:00</td>\n      <td>561042535</td>\n      <td>75203</td>\n      <td>991142.46</td>\n      <td>2017-10-24</td>\n      <td>2018-12-31</td>\n      <td>&lt;Element '{http://zakupki.gov.ru/oos/types/1}c...</td>\n      <td>12300</td>\n      <td>561046931</td>\n      <td>E</td>\n    </tr>\n    <tr>\n      <th>2</th>\n      <td>39452733</td>\n      <td>2056203249818000006</td>\n      <td>2018-01-23T09:12:49.012+03:00</td>\n      <td>562032498</td>\n      <td>75203</td>\n      <td>170000.00</td>\n      <td>2018-01-22</td>\n      <td>2018-03-31</td>\n      <td>&lt;Element '{http://zakupki.gov.ru/oos/types/1}c...</td>\n      <td>NaN</td>\n      <td>56207573829</td>\n      <td>E</td>\n    </tr>\n    <tr>\n      <th>3</th>\n      <td>39762144</td>\n      <td>1057000290918000009</td>\n      <td>2018-01-31T18:50:01.658+03:00</td>\n      <td>570002909</td>\n      <td>75104</td>\n      <td>200000.00</td>\n      <td>2018-01-29</td>\n      <td>2018-12-31</td>\n      <td>&lt;Element '{http://zakupki.gov.ru/oos/types/1}c...</td>\n      <td>12300</td>\n      <td>545019120</td>\n      <td>E</td>\n    </tr>\n    <tr>\n      <th>4</th>\n      <td>39348176</td>\n      <td>2056207055018000003</td>\n      <td>2018-01-17T16:47:12.637+03:00</td>\n      <td>562070550</td>\n      <td>75204</td>\n      <td>6393010.00</td>\n      <td>2017-06-20</td>\n      <td>2017-09-30</td>\n      <td>&lt;Element '{http://zakupki.gov.ru/oos/types/1}c...</td>\n      <td>12300</td>\n      <td>506066768</td>\n      <td>E</td>\n    </tr>\n  </tbody>\n</table>\n</div>"
     },
     "execution_count": 2,
     "metadata": {},
     "output_type": "execute_result"
    }
   ]
  },
  {
   "cell_type": "code",
   "source": [
    "data = data.dropna()"
   ],
   "metadata": {
    "colab": {
     "base_uri": "https://localhost:8080/",
     "height": 699
    },
    "id": "kwwubWtkizEX",
    "outputId": "57370ceb-d594-4fd5-9d60-322827e63456",
    "ExecuteTime": {
     "end_time": "2023-06-11T12:16:09.781634200Z",
     "start_time": "2023-06-11T12:16:04.571733800Z"
    }
   },
   "execution_count": 3,
   "outputs": []
  },
  {
   "cell_type": "code",
   "execution_count": 4,
   "outputs": [],
   "source": [
    "data = data[(data['execution_period_start'] >= pd.Timestamp(2014,1,1))]"
   ],
   "metadata": {
    "collapsed": false,
    "ExecuteTime": {
     "end_time": "2023-06-11T12:16:12.688199900Z",
     "start_time": "2023-06-11T12:16:09.785629300Z"
    }
   }
  },
  {
   "cell_type": "code",
   "execution_count": 5,
   "outputs": [],
   "source": [
    "OKOPF_old = {\n",
    "    '12100' : '10000',\n",
    "    '12165' : '12300', #Общества с ограниченной ответственностью\n",
    "    '12166' : '10000',\n",
    "    '15000' : '65000', #Унитарные предприятия\n",
    "    '15100' : '65100',  #Унитарные предприятия, основанные на праве оперативного управления (казенные предприятия)\n",
    "    '15141' : '65141', #Федеральные казенные предприятия\n",
    "    '15142' : '65142', #Казенные предприятия субъектов Российской Федерации\n",
    "    '15143' : '65143', #Муниципальные казенные предприятия\n",
    "    '15200' : '65200', #Унитарные предприятия, основанные на праве хозяйственного ведения\n",
    "    '15241' : '65241', #Федеральные государственные унитарные предприятия\n",
    "    '15242' : '65242', #Государственные унитарные предприятия субъектов Российской Федерации\n",
    "    '15243' : '65243', #Муниципальные унитарные предприятия\n",
    "    '20114' : 'Not Applicable',\n",
    "    '20300' : '71500',\n",
    "    '20400' : '70400', #Фонды\n",
    "    '20401' : '70401', #Благотворительные фонды\n",
    "    '20402' : '70402', #Негосударственные пенсионные фонды\n",
    "    '20403' : '70403', #Общественные фонды\n",
    "    '20404' : '70404', #Экологические фонды\n",
    "    '20500' : '20614', #Некоммерческие партнерства\n",
    "    '20617' : 'Not Applicable',\n",
    "    '20618' : 'Not Applicable',\n",
    "    '20701' : '20702',\n",
    "    '20800' : '20600',\n",
    "    '20801' : '20609',\n",
    "    '20802' : '20610',\n",
    "    '20803' : '20611',\n",
    "    '20810' : '21200',\n",
    "    '20816' : '20716',\n",
    "    '20900' : '75000', #Учреждения\n",
    "    '20901' : '75000', #Автономные учреждения -> Учреждения, из-за подразделения на уровни в новом ОКОПФ\n",
    "    '20902' : '75502', #Благотворительные учреждения\n",
    "    '20903' : '75000', #Бюджетные учреждения, Аналогично Автономным учреждениям\n",
    "    '20904' : '75000', #Казеннные учреждения, Аналогично Автономным учреждениям\n",
    "    '20905' : '75505', #Общественные учреждения\n",
    "    '20906' : '75500', #Учреждения\n",
    "    '20907' : '75000', #Учреждения акакдемий наук, в новом классификаторе такая категория отсутсвует поэтому переставляем на более общую категорию\n",
    "    '20908' : '75000', #Учреждения религиозных организаций, в новом классификаторе такая категория отсутсвует поэтому переставляем на более общую категорию\n",
    "    '21001' : '20701', #Садоводческие, огороднические или дачные некоммерческие товарищества\n",
    "    '28000' : 'Not Applicable',   #Иные Некоммерческие организации\n",
    "    '28001' : '71400', #Автономные некоммерческие организации\n",
    "    '28002' : '20615',\n",
    "    '28003' : '75300',\n",
    "    '28004' : '71602', #Государственные компании\n",
    "    '28005' : '71601', #Государственные корпорации\n",
    "    '28006' : '21100', #Казачьи общества -> Казачьи общества, внесенные в государственный реестр казачьих обществ в Российской Федерации\n",
    "    '28007' : '20616',\n",
    "    '28008' : '20108',\n",
    "    '28010' : '21200',\n",
    "    '28012' : '20612',\n",
    "    '28013' : 'Not Applicable',\n",
    "    '28014' : '71610',\n",
    "    '28016' : '20716',\n",
    "    '28017' : '20217', #Территориальные общественные самоуправления\n",
    "    '29000' : 'Not Applicable',   #Иные Некоммерческие организации\n",
    "}"
   ],
   "metadata": {
    "collapsed": false,
    "ExecuteTime": {
     "end_time": "2023-06-11T12:16:12.696202600Z",
     "start_time": "2023-06-11T12:16:12.688199900Z"
    }
   }
  },
  {
   "cell_type": "code",
   "execution_count": 6,
   "outputs": [],
   "source": [
    "data['customer_legal_form'] = data['customer_legal_form'].map(OKOPF_old).fillna(data['customer_legal_form'])\n",
    "data = data[data['customer_legal_form'] != 'Not Applicable']"
   ],
   "metadata": {
    "collapsed": false,
    "ExecuteTime": {
     "end_time": "2023-06-11T12:16:19.399938800Z",
     "start_time": "2023-06-11T12:16:12.692231100Z"
    }
   }
  },
  {
   "cell_type": "code",
   "execution_count": 7,
   "outputs": [],
   "source": [
    "data['supplier_legal_form'] = data['supplier_legal_form'].map(OKOPF_old).fillna(data['supplier_legal_form'])\n",
    "data = data[data['supplier_legal_form'] != 'Not Applicable']"
   ],
   "metadata": {
    "collapsed": false,
    "ExecuteTime": {
     "end_time": "2023-06-11T12:16:22.402925400Z",
     "start_time": "2023-06-11T12:16:19.402749600Z"
    }
   }
  },
  {
   "cell_type": "code",
   "execution_count": 8,
   "outputs": [],
   "source": [
    "data = data[(data['price'] > 0)]"
   ],
   "metadata": {
    "collapsed": false,
    "ExecuteTime": {
     "end_time": "2023-06-11T12:16:23.786469300Z",
     "start_time": "2023-06-11T12:16:22.406843700Z"
    }
   }
  },
  {
   "cell_type": "code",
   "execution_count": 9,
   "outputs": [
    {
     "data": {
      "text/plain": "13878043"
     },
     "execution_count": 9,
     "metadata": {},
     "output_type": "execute_result"
    }
   ],
   "source": [
    "len(data)"
   ],
   "metadata": {
    "collapsed": false,
    "ExecuteTime": {
     "end_time": "2023-06-11T12:16:23.802913700Z",
     "start_time": "2023-06-11T12:16:23.790793800Z"
    }
   }
  },
  {
   "cell_type": "code",
   "execution_count": 10,
   "outputs": [],
   "source": [
    "data = data[(data['current_contract_stage'] != \"E\")]"
   ],
   "metadata": {
    "collapsed": false,
    "ExecuteTime": {
     "end_time": "2023-06-11T12:16:24.208234700Z",
     "start_time": "2023-06-11T12:16:23.803071100Z"
    }
   }
  },
  {
   "cell_type": "code",
   "execution_count": 11,
   "outputs": [
    {
     "data": {
      "text/plain": "                id              reg_num                   publish_date  \\\n611       39461574  2057100353517000005  2018-01-23T09:05:46.693+03:00   \n648       39098703  3054501142717000005  2018-01-12T18:13:32.908+03:00   \n2328      54980736  2054103082019000004  2020-01-21T16:53:45.142+03:00   \n2791      52419225  3051500439819000022  2020-01-10T10:32:10.567+03:00   \n5182      34304111  1054100113917000053  2017-05-25T16:35:31.117+03:00   \n...            ...                  ...                            ...   \n16479529  43118032  2410108906617000042  2018-07-13T12:02:20.885+12:00   \n16479585  43117848  2410108906616000077  2018-07-13T10:38:01.303+12:00   \n16479587  43117857  2410108906616000079  2018-07-13T11:26:23.670+12:00   \n16479621  43118777  2410108906617000063  2018-07-13T23:15:54.416+12:00   \n16480582  59152500  3820400749618000001  2020-08-03T16:18:39.556+12:00   \n\n          customer_inn customer_legal_form        price  \\\n611          571003535               75204   8624124.69   \n648          545011427               75404    601773.01   \n2328         541030820               75204     27266.70   \n2791         515004398               75404   6956744.00   \n5182         541001139               75104    275500.00   \n...                ...                 ...          ...   \n16479529    4101089066               75203     39513.00   \n16479585    4101089066               75203    200356.40   \n16479587    4101089066               75203    266527.36   \n16479621    4101089066               75203     28200.00   \n16480582    8204007496               75404  83158560.58   \n\n         execution_period_start execution_period_end  \\\n611                  2017-08-03           2017-11-30   \n648                  2017-03-20           2017-12-31   \n2328                 2019-01-01           2019-12-31   \n2791                 2019-08-05           2019-11-04   \n5182                 2017-05-19           2017-05-31   \n...                         ...                  ...   \n16479529             2017-04-12           2017-12-30   \n16479585             2017-01-01           2018-01-11   \n16479587             2017-01-01           2018-01-11   \n16479621             2017-10-11           2018-01-29   \n16480582             2018-07-23           2019-11-01   \n\n                                               product_code  \\\n611       <Element '{http://zakupki.gov.ru/oos/types/1}c...   \n648       <Element '{http://zakupki.gov.ru/oos/types/1}c...   \n2328      <Element '{http://zakupki.gov.ru/oos/types/1}c...   \n2791      <Element '{http://zakupki.gov.ru/oos/types/1}c...   \n5182      <Element '{http://zakupki.gov.ru/oos/types/1}c...   \n...                                                     ...   \n16479529  <Element '{http://zakupki.gov.ru/oos/types/1}c...   \n16479585  <Element '{http://zakupki.gov.ru/oos/types/1}c...   \n16479587  <Element '{http://zakupki.gov.ru/oos/types/1}c...   \n16479621  <Element '{http://zakupki.gov.ru/oos/types/1}c...   \n16480582  <Element '{http://zakupki.gov.ru/oos/types/1}c...   \n\n         supplier_legal_form supplier_inn current_contract_stage  \n611                    12300    250015377                     EC  \n648                    12300    554002010                     ET  \n2328                   12247   7707049388                     ET  \n2791                   12300    572005648                     EC  \n5182                   12300    573005344                     EC  \n...                      ...          ...                    ...  \n16479529               12300   2724069628                     EC  \n16479585               12300   4101143429                     EC  \n16479587               12300   4105045253                     EC  \n16479621               12300   2539115020                     EC  \n16480582               12300   7901544658                     EC  \n\n[44002 rows x 12 columns]",
      "text/html": "<div>\n<style scoped>\n    .dataframe tbody tr th:only-of-type {\n        vertical-align: middle;\n    }\n\n    .dataframe tbody tr th {\n        vertical-align: top;\n    }\n\n    .dataframe thead th {\n        text-align: right;\n    }\n</style>\n<table border=\"1\" class=\"dataframe\">\n  <thead>\n    <tr style=\"text-align: right;\">\n      <th></th>\n      <th>id</th>\n      <th>reg_num</th>\n      <th>publish_date</th>\n      <th>customer_inn</th>\n      <th>customer_legal_form</th>\n      <th>price</th>\n      <th>execution_period_start</th>\n      <th>execution_period_end</th>\n      <th>product_code</th>\n      <th>supplier_legal_form</th>\n      <th>supplier_inn</th>\n      <th>current_contract_stage</th>\n    </tr>\n  </thead>\n  <tbody>\n    <tr>\n      <th>611</th>\n      <td>39461574</td>\n      <td>2057100353517000005</td>\n      <td>2018-01-23T09:05:46.693+03:00</td>\n      <td>571003535</td>\n      <td>75204</td>\n      <td>8624124.69</td>\n      <td>2017-08-03</td>\n      <td>2017-11-30</td>\n      <td>&lt;Element '{http://zakupki.gov.ru/oos/types/1}c...</td>\n      <td>12300</td>\n      <td>250015377</td>\n      <td>EC</td>\n    </tr>\n    <tr>\n      <th>648</th>\n      <td>39098703</td>\n      <td>3054501142717000005</td>\n      <td>2018-01-12T18:13:32.908+03:00</td>\n      <td>545011427</td>\n      <td>75404</td>\n      <td>601773.01</td>\n      <td>2017-03-20</td>\n      <td>2017-12-31</td>\n      <td>&lt;Element '{http://zakupki.gov.ru/oos/types/1}c...</td>\n      <td>12300</td>\n      <td>554002010</td>\n      <td>ET</td>\n    </tr>\n    <tr>\n      <th>2328</th>\n      <td>54980736</td>\n      <td>2054103082019000004</td>\n      <td>2020-01-21T16:53:45.142+03:00</td>\n      <td>541030820</td>\n      <td>75204</td>\n      <td>27266.70</td>\n      <td>2019-01-01</td>\n      <td>2019-12-31</td>\n      <td>&lt;Element '{http://zakupki.gov.ru/oos/types/1}c...</td>\n      <td>12247</td>\n      <td>7707049388</td>\n      <td>ET</td>\n    </tr>\n    <tr>\n      <th>2791</th>\n      <td>52419225</td>\n      <td>3051500439819000022</td>\n      <td>2020-01-10T10:32:10.567+03:00</td>\n      <td>515004398</td>\n      <td>75404</td>\n      <td>6956744.00</td>\n      <td>2019-08-05</td>\n      <td>2019-11-04</td>\n      <td>&lt;Element '{http://zakupki.gov.ru/oos/types/1}c...</td>\n      <td>12300</td>\n      <td>572005648</td>\n      <td>EC</td>\n    </tr>\n    <tr>\n      <th>5182</th>\n      <td>34304111</td>\n      <td>1054100113917000053</td>\n      <td>2017-05-25T16:35:31.117+03:00</td>\n      <td>541001139</td>\n      <td>75104</td>\n      <td>275500.00</td>\n      <td>2017-05-19</td>\n      <td>2017-05-31</td>\n      <td>&lt;Element '{http://zakupki.gov.ru/oos/types/1}c...</td>\n      <td>12300</td>\n      <td>573005344</td>\n      <td>EC</td>\n    </tr>\n    <tr>\n      <th>...</th>\n      <td>...</td>\n      <td>...</td>\n      <td>...</td>\n      <td>...</td>\n      <td>...</td>\n      <td>...</td>\n      <td>...</td>\n      <td>...</td>\n      <td>...</td>\n      <td>...</td>\n      <td>...</td>\n      <td>...</td>\n    </tr>\n    <tr>\n      <th>16479529</th>\n      <td>43118032</td>\n      <td>2410108906617000042</td>\n      <td>2018-07-13T12:02:20.885+12:00</td>\n      <td>4101089066</td>\n      <td>75203</td>\n      <td>39513.00</td>\n      <td>2017-04-12</td>\n      <td>2017-12-30</td>\n      <td>&lt;Element '{http://zakupki.gov.ru/oos/types/1}c...</td>\n      <td>12300</td>\n      <td>2724069628</td>\n      <td>EC</td>\n    </tr>\n    <tr>\n      <th>16479585</th>\n      <td>43117848</td>\n      <td>2410108906616000077</td>\n      <td>2018-07-13T10:38:01.303+12:00</td>\n      <td>4101089066</td>\n      <td>75203</td>\n      <td>200356.40</td>\n      <td>2017-01-01</td>\n      <td>2018-01-11</td>\n      <td>&lt;Element '{http://zakupki.gov.ru/oos/types/1}c...</td>\n      <td>12300</td>\n      <td>4101143429</td>\n      <td>EC</td>\n    </tr>\n    <tr>\n      <th>16479587</th>\n      <td>43117857</td>\n      <td>2410108906616000079</td>\n      <td>2018-07-13T11:26:23.670+12:00</td>\n      <td>4101089066</td>\n      <td>75203</td>\n      <td>266527.36</td>\n      <td>2017-01-01</td>\n      <td>2018-01-11</td>\n      <td>&lt;Element '{http://zakupki.gov.ru/oos/types/1}c...</td>\n      <td>12300</td>\n      <td>4105045253</td>\n      <td>EC</td>\n    </tr>\n    <tr>\n      <th>16479621</th>\n      <td>43118777</td>\n      <td>2410108906617000063</td>\n      <td>2018-07-13T23:15:54.416+12:00</td>\n      <td>4101089066</td>\n      <td>75203</td>\n      <td>28200.00</td>\n      <td>2017-10-11</td>\n      <td>2018-01-29</td>\n      <td>&lt;Element '{http://zakupki.gov.ru/oos/types/1}c...</td>\n      <td>12300</td>\n      <td>2539115020</td>\n      <td>EC</td>\n    </tr>\n    <tr>\n      <th>16480582</th>\n      <td>59152500</td>\n      <td>3820400749618000001</td>\n      <td>2020-08-03T16:18:39.556+12:00</td>\n      <td>8204007496</td>\n      <td>75404</td>\n      <td>83158560.58</td>\n      <td>2018-07-23</td>\n      <td>2019-11-01</td>\n      <td>&lt;Element '{http://zakupki.gov.ru/oos/types/1}c...</td>\n      <td>12300</td>\n      <td>7901544658</td>\n      <td>EC</td>\n    </tr>\n  </tbody>\n</table>\n<p>44002 rows × 12 columns</p>\n</div>"
     },
     "execution_count": 11,
     "metadata": {},
     "output_type": "execute_result"
    }
   ],
   "source": [
    "data"
   ],
   "metadata": {
    "collapsed": false,
    "ExecuteTime": {
     "end_time": "2023-06-11T12:16:24.282427Z",
     "start_time": "2023-06-11T12:16:24.208234700Z"
    }
   }
  },
  {
   "cell_type": "markdown",
   "metadata": {
    "id": "arae_vGwz29m"
   },
   "source": [
    "Из системы госзакупок:\n",
    "*   EC - Завершен\n",
    "*   E - Выполяется\n",
    "*   ET - Исполнение прекращено\n",
    "*   IN - Контракт Аннулирован\n",
    "\n",
    "Добавленные:\n",
    "*   Unknown - Результат неизвестен"
   ]
  },
  {
   "cell_type": "markdown",
   "metadata": {
    "id": "_W25zfTmvgw7"
   },
   "source": [
    "# Обучение"
   ]
  },
  {
   "cell_type": "code",
   "execution_count": 12,
   "outputs": [
    {
     "data": {
      "text/plain": "0"
     },
     "execution_count": 12,
     "metadata": {},
     "output_type": "execute_result"
    }
   ],
   "source": [
    "def calculate_time_period(row):\n",
    "  return ((row['execution_period_end'] - row['execution_period_start']).days + 1)\n",
    "\n",
    "data['time'] = data[['execution_period_end', 'execution_period_start']].apply(calculate_time_period, axis=1)\n",
    "gc.collect()"
   ],
   "metadata": {
    "collapsed": false,
    "ExecuteTime": {
     "end_time": "2023-06-11T12:16:27.028543800Z",
     "start_time": "2023-06-11T12:16:24.282427Z"
    }
   }
  },
  {
   "cell_type": "code",
   "metadata": {
    "colab": {
     "base_uri": "https://localhost:8080/"
    },
    "id": "RIcqtebXEwrq",
    "outputId": "183859c0-5843-42d6-a11b-ecf6ff3f9475",
    "ExecuteTime": {
     "end_time": "2023-06-11T12:16:27.028543800Z",
     "start_time": "2023-06-11T12:16:27.028543800Z"
    }
   },
   "source": [
    "print(\"EC\", len(data[data['current_contract_stage']=='EC']))\n",
    "print(\"ET\", len(data[data['current_contract_stage']=='ET']))"
   ],
   "execution_count": 13,
   "outputs": [
    {
     "name": "stdout",
     "output_type": "stream",
     "text": [
      "EC 37461\n",
      "ET 6541\n"
     ]
    }
   ]
  },
  {
   "cell_type": "code",
   "execution_count": 14,
   "outputs": [],
   "source": [
    "data.sort_values('execution_period_start', inplace = True)"
   ],
   "metadata": {
    "collapsed": false,
    "ExecuteTime": {
     "end_time": "2023-06-11T12:16:27.130133Z",
     "start_time": "2023-06-11T12:16:27.028543800Z"
    }
   }
  },
  {
   "cell_type": "code",
   "execution_count": 15,
   "outputs": [],
   "source": [
    "ec = data[(data['current_contract_stage']=='EC')]\n",
    "et = data[(data['current_contract_stage']=='ET')]"
   ],
   "metadata": {
    "collapsed": false,
    "ExecuteTime": {
     "end_time": "2023-06-11T12:16:27.145973200Z",
     "start_time": "2023-06-11T12:16:27.086141700Z"
    }
   }
  },
  {
   "cell_type": "code",
   "execution_count": 16,
   "outputs": [],
   "source": [
    "def train_test_split(data, percent=20):\n",
    "    last = data.tail(round(len(data) * (percent/100)))\n",
    "    first = data.head(round(len(data) * (1 - (percent/100))))\n",
    "    return first, last"
   ],
   "metadata": {
    "collapsed": false,
    "ExecuteTime": {
     "end_time": "2023-06-11T12:16:27.153977200Z",
     "start_time": "2023-06-11T12:16:27.134137100Z"
    }
   }
  },
  {
   "cell_type": "code",
   "execution_count": 17,
   "outputs": [],
   "source": [
    "x_ec = ec.copy()\n",
    "y_ec = x_ec[['current_contract_stage', 'execution_period_start']]\n",
    "x_ec = x_ec.drop(['reg_num', 'publish_date', 'customer_inn', 'execution_period_end', 'supplier_inn', 'id'], axis=1)\n",
    "x_train_ec, x_test_ec = train_test_split(x_ec)\n",
    "y_train_ec, y_test_ec = train_test_split(y_ec)"
   ],
   "metadata": {
    "collapsed": false,
    "ExecuteTime": {
     "end_time": "2023-06-11T12:16:27.197977700Z",
     "start_time": "2023-06-11T12:16:27.153977200Z"
    }
   }
  },
  {
   "cell_type": "code",
   "execution_count": 18,
   "outputs": [],
   "source": [
    "x_et = et.copy()\n",
    "y_et = x_et[['current_contract_stage', 'execution_period_start']]\n",
    "x_et = x_et.drop(['reg_num', 'publish_date', 'customer_inn', 'execution_period_end', 'supplier_inn', 'id'], axis=1)\n",
    "x_train_et, x_test_et = train_test_split(x_et)\n",
    "y_train_et, y_test_et = train_test_split(y_et)"
   ],
   "metadata": {
    "collapsed": false,
    "ExecuteTime": {
     "end_time": "2023-06-11T12:16:27.242017100Z",
     "start_time": "2023-06-11T12:16:27.201975100Z"
    }
   }
  },
  {
   "cell_type": "code",
   "execution_count": 19,
   "outputs": [],
   "source": [
    "x_train = pd.concat([x_train_ec, x_train_et], ignore_index=True)\n",
    "y_train = pd.concat([y_train_ec, y_train_et], ignore_index=True)\n",
    "x_test = pd.concat([x_test_ec, x_test_et], ignore_index=True)\n",
    "y_test = pd.concat([y_test_ec, y_test_et], ignore_index=True)"
   ],
   "metadata": {
    "collapsed": false,
    "ExecuteTime": {
     "end_time": "2023-06-11T12:16:27.257998400Z",
     "start_time": "2023-06-11T12:16:27.229983500Z"
    }
   }
  },
  {
   "cell_type": "code",
   "execution_count": 20,
   "outputs": [],
   "source": [
    "x_train = x_train.sort_values('execution_period_start').reset_index(drop=True)\n",
    "y_train = y_train.sort_values('execution_period_start').reset_index(drop=True)\n",
    "x_test = x_test.sort_values('execution_period_start').reset_index(drop=True)\n",
    "y_test = y_test.sort_values('execution_period_start').reset_index(drop=True)"
   ],
   "metadata": {
    "collapsed": false,
    "ExecuteTime": {
     "end_time": "2023-06-11T12:16:27.293996700Z",
     "start_time": "2023-06-11T12:16:27.262000800Z"
    }
   }
  },
  {
   "cell_type": "code",
   "execution_count": 21,
   "outputs": [
    {
     "data": {
      "text/plain": "0"
     },
     "execution_count": 21,
     "metadata": {},
     "output_type": "execute_result"
    }
   ],
   "source": [
    "#Балансировка тренировочных данных\n",
    "old_indexes = round(len(x_train[x_train['current_contract_stage']=='EC'])\n",
    " - len(x_train[x_train['current_contract_stage']=='ET']))\n",
    "x_train.sort_values('current_contract_stage', inplace = True)\n",
    "x_train = x_train.reset_index(drop=True)\n",
    "x_train.drop(x_train[((x_train.index < old_indexes) & (x_train['current_contract_stage']==\"EC\"))].index, inplace=True)\n",
    "\n",
    "y_train.sort_values('current_contract_stage', inplace = True)\n",
    "y_train = y_train.reset_index(drop=True)\n",
    "y_train.drop(y_train[((y_train.index < old_indexes) & (y_train['current_contract_stage']==\"EC\"))].index, inplace=True)\n",
    "gc.collect()"
   ],
   "metadata": {
    "collapsed": false,
    "ExecuteTime": {
     "end_time": "2023-06-11T12:16:27.402017400Z",
     "start_time": "2023-06-11T12:16:27.293996700Z"
    }
   }
  },
  {
   "cell_type": "code",
   "execution_count": 22,
   "outputs": [],
   "source": [
    "x_train = x_train.drop(['current_contract_stage', 'execution_period_start'], axis=1)\n",
    "y_train = y_train.drop(['execution_period_start'], axis=1)\n",
    "x_test = x_test.drop(['current_contract_stage', 'execution_period_start'], axis=1)\n",
    "y_test = y_test.drop(['execution_period_start'], axis=1)"
   ],
   "metadata": {
    "collapsed": false,
    "ExecuteTime": {
     "end_time": "2023-06-11T12:16:27.448159300Z",
     "start_time": "2023-06-11T12:16:27.406017300Z"
    }
   }
  },
  {
   "cell_type": "code",
   "execution_count": 23,
   "outputs": [
    {
     "data": {
      "text/plain": "0"
     },
     "execution_count": 23,
     "metadata": {},
     "output_type": "execute_result"
    }
   ],
   "source": [
    "del x_train_ec, x_train_et, y_train_ec, y_train_et, x_ec, x_et, y_ec, y_et\n",
    "gc.collect()"
   ],
   "metadata": {
    "collapsed": false,
    "ExecuteTime": {
     "end_time": "2023-06-11T12:16:27.496582900Z",
     "start_time": "2023-06-11T12:16:27.476182600Z"
    }
   }
  },
  {
   "cell_type": "code",
   "execution_count": 24,
   "outputs": [
    {
     "name": "stdout",
     "output_type": "stream",
     "text": [
      "EC 7492\n",
      "ET 1308\n"
     ]
    }
   ],
   "source": [
    "print(\"EC\", len(y_test[y_test['current_contract_stage']=='EC']))\n",
    "print(\"ET\", len(y_test[y_test['current_contract_stage']=='ET']))"
   ],
   "metadata": {
    "collapsed": false,
    "ExecuteTime": {
     "end_time": "2023-06-11T12:16:27.508581200Z",
     "start_time": "2023-06-11T12:16:27.496582900Z"
    }
   }
  },
  {
   "cell_type": "code",
   "execution_count": 25,
   "outputs": [
    {
     "name": "stdout",
     "output_type": "stream",
     "text": [
      "EC 5233\n",
      "ET 5233\n"
     ]
    }
   ],
   "source": [
    "print(\"EC\", len(y_train[y_train['current_contract_stage']=='EC']))\n",
    "print(\"ET\", len(y_train[y_train['current_contract_stage']=='ET']))"
   ],
   "metadata": {
    "collapsed": false,
    "ExecuteTime": {
     "end_time": "2023-06-11T12:16:27.584585400Z",
     "start_time": "2023-06-11T12:16:27.512585700Z"
    }
   }
  },
  {
   "cell_type": "code",
   "metadata": {
    "colab": {
     "base_uri": "https://localhost:8080/",
     "height": 449
    },
    "id": "inKhQCS6u8XF",
    "outputId": "36ad9a35-7ee6-419a-8261-d91fc1dba14d",
    "ExecuteTime": {
     "end_time": "2023-06-11T12:16:44.726612700Z",
     "start_time": "2023-06-11T12:16:38.321476100Z"
    }
   },
   "source": [
    "cat_features = ['customer_legal_form', 'product_code', 'supplier_legal_form']\n",
    "model_catboost = CatBoostClassifier(\n",
    "    n_estimators = 100,\n",
    "    learning_rate = 0.01,\n",
    "    max_depth = 5,\n",
    "    task_type=\"GPU\",\n",
    "    devices='0:1',\n",
    ").fit(x_train, y_train, cat_features,\n",
    "      eval_set=(x_test, y_test),\n",
    "             use_best_model=True,\n",
    "             verbose=False)\n",
    "y_pred = model_catboost.predict(x_test)\n",
    "print(classification_report(y_test, y_pred, target_names=['EC', 'ET']))\n",
    "\n",
    "cm = confusion_matrix(y_test, y_pred, labels=model_catboost.classes_)\n",
    "disp = ConfusionMatrixDisplay(confusion_matrix=cm, display_labels=model_catboost.classes_)\n",
    "disp.plot()"
   ],
   "execution_count": 27,
   "outputs": [
    {
     "name": "stdout",
     "output_type": "stream",
     "text": [
      "              precision    recall  f1-score   support\n",
      "\n",
      "          EC       0.88      0.76      0.81      7492\n",
      "          ET       0.22      0.39      0.28      1308\n",
      "\n",
      "    accuracy                           0.70      8800\n",
      "   macro avg       0.55      0.57      0.55      8800\n",
      "weighted avg       0.78      0.70      0.73      8800\n",
      "\n"
     ]
    },
    {
     "data": {
      "text/plain": "<sklearn.metrics._plot.confusion_matrix.ConfusionMatrixDisplay at 0x22e421af880>"
     },
     "execution_count": 27,
     "metadata": {},
     "output_type": "execute_result"
    },
    {
     "data": {
      "text/plain": "<Figure size 640x480 with 2 Axes>",
      "image/png": "[encoded data removed]"
     },
     "metadata": {},
     "output_type": "display_data"
    }
   ]
  },
  {
   "cell_type": "code",
   "metadata": {
    "colab": {
     "base_uri": "https://localhost:8080/"
    },
    "id": "FrygJD_pRkqJ",
    "outputId": "4e1de98a-6e82-4669-a90d-ddaf736341f9",
    "is_executing": true
   },
   "source": [
    "#значимость признаков для леса\n",
    "importances = model_catboost.best_estimator_.get_feature_importance()\n",
    "indices = np.argsort(importances)[::-1]\n",
    "col = x_train.columns\n",
    "ar_f=[]\n",
    "for f, idx in enumerate(indices):\n",
    "    ar_f.append([round(importances[idx],4), col[idx]])\n",
    "print(\"Значимость признака:\")\n",
    "ar_f.sort(reverse=True)\n",
    "ar_f"
   ],
   "execution_count": null,
   "outputs": []
  },
  {
   "cell_type": "code",
   "execution_count": null,
   "outputs": [],
   "source": [
    "model_catboost.save_model(os.path.relpath(\"resources/catboost\"))"
   ],
   "metadata": {
    "collapsed": false,
    "is_executing": true
   }
  },
  {
   "cell_type": "markdown",
   "source": [
    "История исполнителя"
   ],
   "metadata": {
    "collapsed": false
   }
  },
  {
   "cell_type": "code",
   "execution_count": 153,
   "outputs": [
    {
     "data": {
      "text/plain": "                id              reg_num                   publish_date  \\\n3197045   19270183   118100008913000357  2015-01-20T19:20:39.990+03:00   \n10679151  19409401   348100019114000002  2015-01-27T09:19:39.159+03:00   \n3465486   19171403   318100039514000024  2015-01-15T18:37:05.311+03:00   \n3465635   19167992   318100039514000027  2015-01-15T18:09:33.929+03:00   \n3466133   19227177   318100039514000027  2015-01-18T09:37:03.654+03:00   \n...            ...                  ...                            ...   \n14716077  62776870  3190112923420000075  2021-01-19T11:19:14.402+07:00   \n11322441  62699617  2072500547920000048  2021-01-18T16:23:00.471+03:00   \n16385913  62890320  2410117900920000009  2021-01-29T16:19:33.513+12:00   \n12751051  62529379  3032333944020000147  2021-01-13T09:55:55.164+08:00   \n16336178  62080234  3870100384720000002  2021-01-20T09:41:14.932+12:00   \n\n          customer_inn customer_legal_form       price execution_period_start  \\\n3197045     2309090540               75000    77703.52             2014-01-01   \n10679151    5027106892               75000   317583.72             2014-01-01   \n3465486     2320172500               75000  2640736.36             2014-01-01   \n3465635     2320172500               75000   280300.17             2014-01-01   \n3466133     2320172500               75000   395674.49             2014-01-01   \n...                ...                 ...         ...                    ...   \n14716077    1901129234               75404   178274.58             2020-12-16   \n11322441     725005479               75203   112798.41             2020-12-21   \n16385913    4101179009               75203   240000.00             2020-12-21   \n12751051     323339440               75404   937491.84             2020-12-25   \n16336178    8701003847               75403   281373.00             2021-01-19   \n\n         execution_period_end  \\\n3197045            2014-12-31   \n10679151           2015-01-30   \n3465486            2014-12-01   \n3465635            2015-03-31   \n3466133            2015-03-31   \n...                       ...   \n14716077           2020-12-31   \n11322441           2020-12-31   \n16385913           2021-03-22   \n12751051           2021-12-31   \n16336178           2021-03-31   \n\n                                               product_code  \\\n3197045                                        40.30.10.174   \n10679151                                       40.12.10.110   \n3465486                                        41.00.20.132   \n3465635                                        40.11.10.115   \n3466133                                        40.11.10.115   \n...                                                     ...   \n14716077  <Element '{http://zakupki.gov.ru/oos/types/1}c...   \n11322441  <Element '{http://zakupki.gov.ru/oos/types/1}c...   \n16385913  <Element '{http://zakupki.gov.ru/oos/types/1}c...   \n12751051  <Element '{http://zakupki.gov.ru/oos/types/1}c...   \n16336178  <Element '{http://zakupki.gov.ru/oos/types/1}c...   \n\n         supplier_legal_form supplier_inn current_contract_stage  time  \n3197045                12247   7708503727                     EC   365  \n10679151               12247   7736520080                     EC   395  \n3465486                12300   2320210667                     EC   335  \n3465635                75000   7704191019                     EC   455  \n3466133                75000   7704191019                     EC   455  \n...                      ...          ...                    ...   ...  \n14716077               12300   1901064509                     ET    16  \n11322441               65243    726016530                     EC    11  \n16385913               12300   2722050371                     EC    92  \n12751051               65243    326540932                     EC   372  \n16336178               65242   8700000466                     EC    72  \n\n[44002 rows x 13 columns]",
      "text/html": "<div>\n<style scoped>\n    .dataframe tbody tr th:only-of-type {\n        vertical-align: middle;\n    }\n\n    .dataframe tbody tr th {\n        vertical-align: top;\n    }\n\n    .dataframe thead th {\n        text-align: right;\n    }\n</style>\n<table border=\"1\" class=\"dataframe\">\n  <thead>\n    <tr style=\"text-align: right;\">\n      <th></th>\n      <th>id</th>\n      <th>reg_num</th>\n      <th>publish_date</th>\n      <th>customer_inn</th>\n      <th>customer_legal_form</th>\n      <th>price</th>\n      <th>execution_period_start</th>\n      <th>execution_period_end</th>\n      <th>product_code</th>\n      <th>supplier_legal_form</th>\n      <th>supplier_inn</th>\n      <th>current_contract_stage</th>\n      <th>time</th>\n    </tr>\n  </thead>\n  <tbody>\n    <tr>\n      <th>3197045</th>\n      <td>19270183</td>\n      <td>118100008913000357</td>\n      <td>2015-01-20T19:20:39.990+03:00</td>\n      <td>2309090540</td>\n      <td>75000</td>\n      <td>77703.52</td>\n      <td>2014-01-01</td>\n      <td>2014-12-31</td>\n      <td>40.30.10.174</td>\n      <td>12247</td>\n      <td>7708503727</td>\n      <td>EC</td>\n      <td>365</td>\n    </tr>\n    <tr>\n      <th>10679151</th>\n      <td>19409401</td>\n      <td>348100019114000002</td>\n      <td>2015-01-27T09:19:39.159+03:00</td>\n      <td>5027106892</td>\n      <td>75000</td>\n      <td>317583.72</td>\n      <td>2014-01-01</td>\n      <td>2015-01-30</td>\n      <td>40.12.10.110</td>\n      <td>12247</td>\n      <td>7736520080</td>\n      <td>EC</td>\n      <td>395</td>\n    </tr>\n    <tr>\n      <th>3465486</th>\n      <td>19171403</td>\n      <td>318100039514000024</td>\n      <td>2015-01-15T18:37:05.311+03:00</td>\n      <td>2320172500</td>\n      <td>75000</td>\n      <td>2640736.36</td>\n      <td>2014-01-01</td>\n      <td>2014-12-01</td>\n      <td>41.00.20.132</td>\n      <td>12300</td>\n      <td>2320210667</td>\n      <td>EC</td>\n      <td>335</td>\n    </tr>\n    <tr>\n      <th>3465635</th>\n      <td>19167992</td>\n      <td>318100039514000027</td>\n      <td>2015-01-15T18:09:33.929+03:00</td>\n      <td>2320172500</td>\n      <td>75000</td>\n      <td>280300.17</td>\n      <td>2014-01-01</td>\n      <td>2015-03-31</td>\n      <td>40.11.10.115</td>\n      <td>75000</td>\n      <td>7704191019</td>\n      <td>EC</td>\n      <td>455</td>\n    </tr>\n    <tr>\n      <th>3466133</th>\n      <td>19227177</td>\n      <td>318100039514000027</td>\n      <td>2015-01-18T09:37:03.654+03:00</td>\n      <td>2320172500</td>\n      <td>75000</td>\n      <td>395674.49</td>\n      <td>2014-01-01</td>\n      <td>2015-03-31</td>\n      <td>40.11.10.115</td>\n      <td>75000</td>\n      <td>7704191019</td>\n      <td>EC</td>\n      <td>455</td>\n    </tr>\n    <tr>\n      <th>...</th>\n      <td>...</td>\n      <td>...</td>\n      <td>...</td>\n      <td>...</td>\n      <td>...</td>\n      <td>...</td>\n      <td>...</td>\n      <td>...</td>\n      <td>...</td>\n      <td>...</td>\n      <td>...</td>\n      <td>...</td>\n      <td>...</td>\n    </tr>\n    <tr>\n      <th>14716077</th>\n      <td>62776870</td>\n      <td>3190112923420000075</td>\n      <td>2021-01-19T11:19:14.402+07:00</td>\n      <td>1901129234</td>\n      <td>75404</td>\n      <td>178274.58</td>\n      <td>2020-12-16</td>\n      <td>2020-12-31</td>\n      <td>&lt;Element '{http://zakupki.gov.ru/oos/types/1}c...</td>\n      <td>12300</td>\n      <td>1901064509</td>\n      <td>ET</td>\n      <td>16</td>\n    </tr>\n    <tr>\n      <th>11322441</th>\n      <td>62699617</td>\n      <td>2072500547920000048</td>\n      <td>2021-01-18T16:23:00.471+03:00</td>\n      <td>725005479</td>\n      <td>75203</td>\n      <td>112798.41</td>\n      <td>2020-12-21</td>\n      <td>2020-12-31</td>\n      <td>&lt;Element '{http://zakupki.gov.ru/oos/types/1}c...</td>\n      <td>65243</td>\n      <td>726016530</td>\n      <td>EC</td>\n      <td>11</td>\n    </tr>\n    <tr>\n      <th>16385913</th>\n      <td>62890320</td>\n      <td>2410117900920000009</td>\n      <td>2021-01-29T16:19:33.513+12:00</td>\n      <td>4101179009</td>\n      <td>75203</td>\n      <td>240000.00</td>\n      <td>2020-12-21</td>\n      <td>2021-03-22</td>\n      <td>&lt;Element '{http://zakupki.gov.ru/oos/types/1}c...</td>\n      <td>12300</td>\n      <td>2722050371</td>\n      <td>EC</td>\n      <td>92</td>\n    </tr>\n    <tr>\n      <th>12751051</th>\n      <td>62529379</td>\n      <td>3032333944020000147</td>\n      <td>2021-01-13T09:55:55.164+08:00</td>\n      <td>323339440</td>\n      <td>75404</td>\n      <td>937491.84</td>\n      <td>2020-12-25</td>\n      <td>2021-12-31</td>\n      <td>&lt;Element '{http://zakupki.gov.ru/oos/types/1}c...</td>\n      <td>65243</td>\n      <td>326540932</td>\n      <td>EC</td>\n      <td>372</td>\n    </tr>\n    <tr>\n      <th>16336178</th>\n      <td>62080234</td>\n      <td>3870100384720000002</td>\n      <td>2021-01-20T09:41:14.932+12:00</td>\n      <td>8701003847</td>\n      <td>75403</td>\n      <td>281373.00</td>\n      <td>2021-01-19</td>\n      <td>2021-03-31</td>\n      <td>&lt;Element '{http://zakupki.gov.ru/oos/types/1}c...</td>\n      <td>65242</td>\n      <td>8700000466</td>\n      <td>EC</td>\n      <td>72</td>\n    </tr>\n  </tbody>\n</table>\n<p>44002 rows × 13 columns</p>\n</div>"
     },
     "execution_count": 153,
     "metadata": {},
     "output_type": "execute_result"
    }
   ],
   "source": [
    "data"
   ],
   "metadata": {
    "collapsed": false,
    "ExecuteTime": {
     "end_time": "2023-06-11T03:12:12.954967Z",
     "start_time": "2023-06-11T03:12:12.938981900Z"
    }
   }
  },
  {
   "cell_type": "code",
   "execution_count": 155,
   "outputs": [],
   "source": [
    "supp = data[(data['supplier_inn'] == 726016530)]"
   ],
   "metadata": {
    "collapsed": false,
    "ExecuteTime": {
     "end_time": "2023-06-11T03:13:17.344516900Z",
     "start_time": "2023-06-11T03:13:17.322490100Z"
    }
   }
  },
  {
   "cell_type": "code",
   "execution_count": 156,
   "outputs": [
    {
     "name": "stdout",
     "output_type": "stream",
     "text": [
      "Хорошо проведенные: 19\n"
     ]
    }
   ],
   "source": [
    "print(\"Хорошо проведенные:\",  len(supp[(supp['current_contract_stage'] == 'EC')]))"
   ],
   "metadata": {
    "collapsed": false,
    "ExecuteTime": {
     "end_time": "2023-06-11T03:14:36.574480900Z",
     "start_time": "2023-06-11T03:14:36.525286600Z"
    }
   }
  },
  {
   "cell_type": "code",
   "execution_count": 157,
   "outputs": [
    {
     "name": "stdout",
     "output_type": "stream",
     "text": [
      "Так себе проведенные: 4\n"
     ]
    }
   ],
   "source": [
    "print(\"Так себе проведенные:\",  len(supp[(supp['current_contract_stage'] == 'ET')]))"
   ],
   "metadata": {
    "collapsed": false,
    "ExecuteTime": {
     "end_time": "2023-06-11T03:14:59.550275600Z",
     "start_time": "2023-06-11T03:14:59.532244800Z"
    }
   }
  },
  {
   "cell_type": "code",
   "execution_count": 158,
   "outputs": [
    {
     "data": {
      "text/plain": "                id              reg_num                   publish_date  \\\n11211860  31887551  2071103152816000003  2017-01-23T18:29:55.688+03:00   \n11309210  37858805  2072106342316000022  2017-12-05T16:10:48.072+03:00   \n11281166  39681638  3071104297817000004  2018-01-30T18:03:52.166+03:00   \n11228722  41900166  3071104333017000021  2018-05-14T11:52:08.186+03:00   \n11325935  41900166  3071104333017000021  2018-05-14T11:52:08.186+03:00   \n11260746  40956869  1071102644717000020  2018-04-03T16:20:43.693+03:00   \n11295140  39568890  2072501475517000012  2018-01-25T12:15:10.753+03:00   \n11229892  46337997  3071104352318000005  2018-12-28T20:47:47.819+03:00   \n11228991  46337997  3071104352318000005  2018-12-28T20:47:47.819+03:00   \n11269693  50244719  2071104232918000003  2019-06-20T19:02:40.100+03:00   \n11291950  46375182  3071104186118000002  2019-01-14T12:52:00.007+03:00   \n11292078  46374169  3072105421018000004  2019-01-14T12:51:35.095+03:00   \n11292547  46761934  3071104357018000013  2019-01-14T13:21:43.071+03:00   \n11284263  48703241  2072500345718000004  2019-04-09T18:02:11.859+03:00   \n11229613  46371662  3071105235918000005  2018-12-29T15:10:39.641+03:00   \n11230508  46371662  3071105235918000005  2018-12-29T15:10:39.641+03:00   \n11292187  46531924  3071103529718000014  2019-01-14T13:09:05.688+03:00   \n11280665  50085270  3071104333018000015  2019-05-30T10:08:53.420+03:00   \n11254144  54975551  2071103348319000003  2020-02-07T16:59:48.719+03:00   \n11253265  55479131  3071104186119000010  2020-02-03T12:50:09.049+03:00   \n11253954  55670661  3072105421019000016  2020-02-07T13:01:11.465+03:00   \n11259476  60417199  3072105421020000024  2020-10-21T15:58:19.855+03:00   \n11322441  62699617  2072500547920000048  2021-01-18T16:23:00.471+03:00   \n\n          customer_inn customer_legal_form       price execution_period_start  \\\n11211860     711031528               75204   143094.13             2016-11-30   \n11309210     725009184               75204   133934.73             2016-12-14   \n11281166     711042978               75404   783638.63             2017-01-01   \n11228722     711043330               75404  3928955.36             2017-02-13   \n11325935     711043330               75404  3928955.36             2017-02-13   \n11260746     711026447               30002   522737.48             2017-05-29   \n11295140     725014755               75204    68718.39             2017-09-28   \n11229892     711043523               75404  1714771.30             2018-01-01   \n11228991     711043523               75404  1714771.30             2018-01-01   \n11269693     711042329               75203   124644.59             2018-01-01   \n11291950     711041861               75404   475019.45             2018-01-01   \n11292078     721054210               75404  2107467.13             2018-01-01   \n11292547     711043570               75404  1688425.70             2018-01-26   \n11284263     725003457               75203   368577.30             2018-01-29   \n11229613     711052359               75404   796854.14             2018-01-29   \n11230508     711052359               75404   796854.14             2018-01-29   \n11292187     711035297               75404  1682042.00             2018-01-29   \n11280665     711043330               75404  2697549.81             2018-01-31   \n11254144     711033483               75203  1496826.93             2019-01-31   \n11253265     711041861               75404   485132.73             2019-02-13   \n11253954     721054210               75404  2291810.09             2019-02-13   \n11259476     721054210               75404  1773141.34             2020-02-06   \n11322441     725005479               75203   112798.41             2020-12-21   \n\n         execution_period_end  \\\n11211860           2017-12-31   \n11309210           2017-12-31   \n11281166           2017-12-31   \n11228722           2017-12-31   \n11325935           2017-12-31   \n11260746           2017-12-31   \n11295140           2018-12-31   \n11229892           2018-12-31   \n11228991           2018-12-31   \n11269693           2019-12-31   \n11291950           2018-12-31   \n11292078           2018-12-31   \n11292547           2018-12-31   \n11284263           2019-12-31   \n11229613           2018-12-31   \n11230508           2018-12-31   \n11292187           2018-12-31   \n11280665           2018-12-31   \n11254144           2019-12-31   \n11253265           2019-12-31   \n11253954           2019-12-31   \n11259476           2020-09-30   \n11322441           2020-12-31   \n\n                                               product_code  \\\n11211860  <Element '{http://zakupki.gov.ru/oos/types/1}c...   \n11309210  <Element '{http://zakupki.gov.ru/oos/types/1}c...   \n11281166  <Element '{http://zakupki.gov.ru/oos/types/1}c...   \n11228722  <Element '{http://zakupki.gov.ru/oos/types/1}c...   \n11325935  <Element '{http://zakupki.gov.ru/oos/types/1}c...   \n11260746  <Element '{http://zakupki.gov.ru/oos/types/1}c...   \n11295140  <Element '{http://zakupki.gov.ru/oos/types/1}c...   \n11229892  <Element '{http://zakupki.gov.ru/oos/types/1}c...   \n11228991  <Element '{http://zakupki.gov.ru/oos/types/1}c...   \n11269693  <Element '{http://zakupki.gov.ru/oos/types/1}c...   \n11291950  <Element '{http://zakupki.gov.ru/oos/types/1}c...   \n11292078  <Element '{http://zakupki.gov.ru/oos/types/1}c...   \n11292547  <Element '{http://zakupki.gov.ru/oos/types/1}c...   \n11284263  <Element '{http://zakupki.gov.ru/oos/types/1}c...   \n11229613  <Element '{http://zakupki.gov.ru/oos/types/1}c...   \n11230508  <Element '{http://zakupki.gov.ru/oos/types/1}c...   \n11292187  <Element '{http://zakupki.gov.ru/oos/types/1}c...   \n11280665  <Element '{http://zakupki.gov.ru/oos/types/1}c...   \n11254144  <Element '{http://zakupki.gov.ru/oos/types/1}c...   \n11253265  <Element '{http://zakupki.gov.ru/oos/types/1}c...   \n11253954  <Element '{http://zakupki.gov.ru/oos/types/1}c...   \n11259476  <Element '{http://zakupki.gov.ru/oos/types/1}c...   \n11322441  <Element '{http://zakupki.gov.ru/oos/types/1}c...   \n\n         supplier_legal_form supplier_inn current_contract_stage  time  \n11211860               65243    726016530                     EC   397  \n11309210               65243    726016530                     ET   383  \n11281166               65243    726016530                     EC   365  \n11228722               65243    726016530                     EC   322  \n11325935               65243    726016530                     EC   322  \n11260746               65243    726016530                     EC   217  \n11295140               65243    726016530                     ET   460  \n11229892               65243    726016530                     EC   365  \n11228991               65243    726016530                     EC   365  \n11269693               65243    726016530                     EC   730  \n11291950               65243    726016530                     EC   365  \n11292078               65243    726016530                     EC   365  \n11292547               65243    726016530                     EC   340  \n11284263               65243    726016530                     EC   702  \n11229613               65243    726016530                     EC   337  \n11230508               65243    726016530                     EC   337  \n11292187               65243    726016530                     EC   337  \n11280665               65243    726016530                     EC   335  \n11254144               65243    726016530                     ET   335  \n11253265               65243    726016530                     EC   322  \n11253954               65243    726016530                     EC   322  \n11259476               65243    726016530                     ET   238  \n11322441               65243    726016530                     EC    11  ",
      "text/html": "<div>\n<style scoped>\n    .dataframe tbody tr th:only-of-type {\n        vertical-align: middle;\n    }\n\n    .dataframe tbody tr th {\n        vertical-align: top;\n    }\n\n    .dataframe thead th {\n        text-align: right;\n    }\n</style>\n<table border=\"1\" class=\"dataframe\">\n  <thead>\n    <tr style=\"text-align: right;\">\n      <th></th>\n      <th>id</th>\n      <th>reg_num</th>\n      <th>publish_date</th>\n      <th>customer_inn</th>\n      <th>customer_legal_form</th>\n      <th>price</th>\n      <th>execution_period_start</th>\n      <th>execution_period_end</th>\n      <th>product_code</th>\n      <th>supplier_legal_form</th>\n      <th>supplier_inn</th>\n      <th>current_contract_stage</th>\n      <th>time</th>\n    </tr>\n  </thead>\n  <tbody>\n    <tr>\n      <th>11211860</th>\n      <td>31887551</td>\n      <td>2071103152816000003</td>\n      <td>2017-01-23T18:29:55.688+03:00</td>\n      <td>711031528</td>\n      <td>75204</td>\n      <td>143094.13</td>\n      <td>2016-11-30</td>\n      <td>2017-12-31</td>\n      <td>&lt;Element '{http://zakupki.gov.ru/oos/types/1}c...</td>\n      <td>65243</td>\n      <td>726016530</td>\n      <td>EC</td>\n      <td>397</td>\n    </tr>\n    <tr>\n      <th>11309210</th>\n      <td>37858805</td>\n      <td>2072106342316000022</td>\n      <td>2017-12-05T16:10:48.072+03:00</td>\n      <td>725009184</td>\n      <td>75204</td>\n      <td>133934.73</td>\n      <td>2016-12-14</td>\n      <td>2017-12-31</td>\n      <td>&lt;Element '{http://zakupki.gov.ru/oos/types/1}c...</td>\n      <td>65243</td>\n      <td>726016530</td>\n      <td>ET</td>\n      <td>383</td>\n    </tr>\n    <tr>\n      <th>11281166</th>\n      <td>39681638</td>\n      <td>3071104297817000004</td>\n      <td>2018-01-30T18:03:52.166+03:00</td>\n      <td>711042978</td>\n      <td>75404</td>\n      <td>783638.63</td>\n      <td>2017-01-01</td>\n      <td>2017-12-31</td>\n      <td>&lt;Element '{http://zakupki.gov.ru/oos/types/1}c...</td>\n      <td>65243</td>\n      <td>726016530</td>\n      <td>EC</td>\n      <td>365</td>\n    </tr>\n    <tr>\n      <th>11228722</th>\n      <td>41900166</td>\n      <td>3071104333017000021</td>\n      <td>2018-05-14T11:52:08.186+03:00</td>\n      <td>711043330</td>\n      <td>75404</td>\n      <td>3928955.36</td>\n      <td>2017-02-13</td>\n      <td>2017-12-31</td>\n      <td>&lt;Element '{http://zakupki.gov.ru/oos/types/1}c...</td>\n      <td>65243</td>\n      <td>726016530</td>\n      <td>EC</td>\n      <td>322</td>\n    </tr>\n    <tr>\n      <th>11325935</th>\n      <td>41900166</td>\n      <td>3071104333017000021</td>\n      <td>2018-05-14T11:52:08.186+03:00</td>\n      <td>711043330</td>\n      <td>75404</td>\n      <td>3928955.36</td>\n      <td>2017-02-13</td>\n      <td>2017-12-31</td>\n      <td>&lt;Element '{http://zakupki.gov.ru/oos/types/1}c...</td>\n      <td>65243</td>\n      <td>726016530</td>\n      <td>EC</td>\n      <td>322</td>\n    </tr>\n    <tr>\n      <th>11260746</th>\n      <td>40956869</td>\n      <td>1071102644717000020</td>\n      <td>2018-04-03T16:20:43.693+03:00</td>\n      <td>711026447</td>\n      <td>30002</td>\n      <td>522737.48</td>\n      <td>2017-05-29</td>\n      <td>2017-12-31</td>\n      <td>&lt;Element '{http://zakupki.gov.ru/oos/types/1}c...</td>\n      <td>65243</td>\n      <td>726016530</td>\n      <td>EC</td>\n      <td>217</td>\n    </tr>\n    <tr>\n      <th>11295140</th>\n      <td>39568890</td>\n      <td>2072501475517000012</td>\n      <td>2018-01-25T12:15:10.753+03:00</td>\n      <td>725014755</td>\n      <td>75204</td>\n      <td>68718.39</td>\n      <td>2017-09-28</td>\n      <td>2018-12-31</td>\n      <td>&lt;Element '{http://zakupki.gov.ru/oos/types/1}c...</td>\n      <td>65243</td>\n      <td>726016530</td>\n      <td>ET</td>\n      <td>460</td>\n    </tr>\n    <tr>\n      <th>11229892</th>\n      <td>46337997</td>\n      <td>3071104352318000005</td>\n      <td>2018-12-28T20:47:47.819+03:00</td>\n      <td>711043523</td>\n      <td>75404</td>\n      <td>1714771.30</td>\n      <td>2018-01-01</td>\n      <td>2018-12-31</td>\n      <td>&lt;Element '{http://zakupki.gov.ru/oos/types/1}c...</td>\n      <td>65243</td>\n      <td>726016530</td>\n      <td>EC</td>\n      <td>365</td>\n    </tr>\n    <tr>\n      <th>11228991</th>\n      <td>46337997</td>\n      <td>3071104352318000005</td>\n      <td>2018-12-28T20:47:47.819+03:00</td>\n      <td>711043523</td>\n      <td>75404</td>\n      <td>1714771.30</td>\n      <td>2018-01-01</td>\n      <td>2018-12-31</td>\n      <td>&lt;Element '{http://zakupki.gov.ru/oos/types/1}c...</td>\n      <td>65243</td>\n      <td>726016530</td>\n      <td>EC</td>\n      <td>365</td>\n    </tr>\n    <tr>\n      <th>11269693</th>\n      <td>50244719</td>\n      <td>2071104232918000003</td>\n      <td>2019-06-20T19:02:40.100+03:00</td>\n      <td>711042329</td>\n      <td>75203</td>\n      <td>124644.59</td>\n      <td>2018-01-01</td>\n      <td>2019-12-31</td>\n      <td>&lt;Element '{http://zakupki.gov.ru/oos/types/1}c...</td>\n      <td>65243</td>\n      <td>726016530</td>\n      <td>EC</td>\n      <td>730</td>\n    </tr>\n    <tr>\n      <th>11291950</th>\n      <td>46375182</td>\n      <td>3071104186118000002</td>\n      <td>2019-01-14T12:52:00.007+03:00</td>\n      <td>711041861</td>\n      <td>75404</td>\n      <td>475019.45</td>\n      <td>2018-01-01</td>\n      <td>2018-12-31</td>\n      <td>&lt;Element '{http://zakupki.gov.ru/oos/types/1}c...</td>\n      <td>65243</td>\n      <td>726016530</td>\n      <td>EC</td>\n      <td>365</td>\n    </tr>\n    <tr>\n      <th>11292078</th>\n      <td>46374169</td>\n      <td>3072105421018000004</td>\n      <td>2019-01-14T12:51:35.095+03:00</td>\n      <td>721054210</td>\n      <td>75404</td>\n      <td>2107467.13</td>\n      <td>2018-01-01</td>\n      <td>2018-12-31</td>\n      <td>&lt;Element '{http://zakupki.gov.ru/oos/types/1}c...</td>\n      <td>65243</td>\n      <td>726016530</td>\n      <td>EC</td>\n      <td>365</td>\n    </tr>\n    <tr>\n      <th>11292547</th>\n      <td>46761934</td>\n      <td>3071104357018000013</td>\n      <td>2019-01-14T13:21:43.071+03:00</td>\n      <td>711043570</td>\n      <td>75404</td>\n      <td>1688425.70</td>\n      <td>2018-01-26</td>\n      <td>2018-12-31</td>\n      <td>&lt;Element '{http://zakupki.gov.ru/oos/types/1}c...</td>\n      <td>65243</td>\n      <td>726016530</td>\n      <td>EC</td>\n      <td>340</td>\n    </tr>\n    <tr>\n      <th>11284263</th>\n      <td>48703241</td>\n      <td>2072500345718000004</td>\n      <td>2019-04-09T18:02:11.859+03:00</td>\n      <td>725003457</td>\n      <td>75203</td>\n      <td>368577.30</td>\n      <td>2018-01-29</td>\n      <td>2019-12-31</td>\n      <td>&lt;Element '{http://zakupki.gov.ru/oos/types/1}c...</td>\n      <td>65243</td>\n      <td>726016530</td>\n      <td>EC</td>\n      <td>702</td>\n    </tr>\n    <tr>\n      <th>11229613</th>\n      <td>46371662</td>\n      <td>3071105235918000005</td>\n      <td>2018-12-29T15:10:39.641+03:00</td>\n      <td>711052359</td>\n      <td>75404</td>\n      <td>796854.14</td>\n      <td>2018-01-29</td>\n      <td>2018-12-31</td>\n      <td>&lt;Element '{http://zakupki.gov.ru/oos/types/1}c...</td>\n      <td>65243</td>\n      <td>726016530</td>\n      <td>EC</td>\n      <td>337</td>\n    </tr>\n    <tr>\n      <th>11230508</th>\n      <td>46371662</td>\n      <td>3071105235918000005</td>\n      <td>2018-12-29T15:10:39.641+03:00</td>\n      <td>711052359</td>\n      <td>75404</td>\n      <td>796854.14</td>\n      <td>2018-01-29</td>\n      <td>2018-12-31</td>\n      <td>&lt;Element '{http://zakupki.gov.ru/oos/types/1}c...</td>\n      <td>65243</td>\n      <td>726016530</td>\n      <td>EC</td>\n      <td>337</td>\n    </tr>\n    <tr>\n      <th>11292187</th>\n      <td>46531924</td>\n      <td>3071103529718000014</td>\n      <td>2019-01-14T13:09:05.688+03:00</td>\n      <td>711035297</td>\n      <td>75404</td>\n      <td>1682042.00</td>\n      <td>2018-01-29</td>\n      <td>2018-12-31</td>\n      <td>&lt;Element '{http://zakupki.gov.ru/oos/types/1}c...</td>\n      <td>65243</td>\n      <td>726016530</td>\n      <td>EC</td>\n      <td>337</td>\n    </tr>\n    <tr>\n      <th>11280665</th>\n      <td>50085270</td>\n      <td>3071104333018000015</td>\n      <td>2019-05-30T10:08:53.420+03:00</td>\n      <td>711043330</td>\n      <td>75404</td>\n      <td>2697549.81</td>\n      <td>2018-01-31</td>\n      <td>2018-12-31</td>\n      <td>&lt;Element '{http://zakupki.gov.ru/oos/types/1}c...</td>\n      <td>65243</td>\n      <td>726016530</td>\n      <td>EC</td>\n      <td>335</td>\n    </tr>\n    <tr>\n      <th>11254144</th>\n      <td>54975551</td>\n      <td>2071103348319000003</td>\n      <td>2020-02-07T16:59:48.719+03:00</td>\n      <td>711033483</td>\n      <td>75203</td>\n      <td>1496826.93</td>\n      <td>2019-01-31</td>\n      <td>2019-12-31</td>\n      <td>&lt;Element '{http://zakupki.gov.ru/oos/types/1}c...</td>\n      <td>65243</td>\n      <td>726016530</td>\n      <td>ET</td>\n      <td>335</td>\n    </tr>\n    <tr>\n      <th>11253265</th>\n      <td>55479131</td>\n      <td>3071104186119000010</td>\n      <td>2020-02-03T12:50:09.049+03:00</td>\n      <td>711041861</td>\n      <td>75404</td>\n      <td>485132.73</td>\n      <td>2019-02-13</td>\n      <td>2019-12-31</td>\n      <td>&lt;Element '{http://zakupki.gov.ru/oos/types/1}c...</td>\n      <td>65243</td>\n      <td>726016530</td>\n      <td>EC</td>\n      <td>322</td>\n    </tr>\n    <tr>\n      <th>11253954</th>\n      <td>55670661</td>\n      <td>3072105421019000016</td>\n      <td>2020-02-07T13:01:11.465+03:00</td>\n      <td>721054210</td>\n      <td>75404</td>\n      <td>2291810.09</td>\n      <td>2019-02-13</td>\n      <td>2019-12-31</td>\n      <td>&lt;Element '{http://zakupki.gov.ru/oos/types/1}c...</td>\n      <td>65243</td>\n      <td>726016530</td>\n      <td>EC</td>\n      <td>322</td>\n    </tr>\n    <tr>\n      <th>11259476</th>\n      <td>60417199</td>\n      <td>3072105421020000024</td>\n      <td>2020-10-21T15:58:19.855+03:00</td>\n      <td>721054210</td>\n      <td>75404</td>\n      <td>1773141.34</td>\n      <td>2020-02-06</td>\n      <td>2020-09-30</td>\n      <td>&lt;Element '{http://zakupki.gov.ru/oos/types/1}c...</td>\n      <td>65243</td>\n      <td>726016530</td>\n      <td>ET</td>\n      <td>238</td>\n    </tr>\n    <tr>\n      <th>11322441</th>\n      <td>62699617</td>\n      <td>2072500547920000048</td>\n      <td>2021-01-18T16:23:00.471+03:00</td>\n      <td>725005479</td>\n      <td>75203</td>\n      <td>112798.41</td>\n      <td>2020-12-21</td>\n      <td>2020-12-31</td>\n      <td>&lt;Element '{http://zakupki.gov.ru/oos/types/1}c...</td>\n      <td>65243</td>\n      <td>726016530</td>\n      <td>EC</td>\n      <td>11</td>\n    </tr>\n  </tbody>\n</table>\n</div>"
     },
     "execution_count": 158,
     "metadata": {},
     "output_type": "execute_result"
    }
   ],
   "source": [
    "supp"
   ],
   "metadata": {
    "collapsed": false,
    "ExecuteTime": {
     "end_time": "2023-06-11T03:20:28.209132700Z",
     "start_time": "2023-06-11T03:20:28.176069100Z"
    }
   }
  },
  {
   "cell_type": "code",
   "execution_count": 159,
   "outputs": [
    {
     "data": {
      "text/plain": "                id              reg_num                   publish_date  \\\n1339366   19424560   369100012414000023  2015-01-27T09:38:27.156+05:00   \n3394970   18652463   318300336414000002  2015-01-14T14:09:40.279+03:00   \n15340201  19362351   387300062613000130  2015-01-23T16:11:01.972+05:00   \n3394917   15763889   318200049214000002  2015-01-28T14:33:34.742+03:00   \n15949976  31769878   340100017314000003  2017-01-28T19:16:56.042+03:00   \n...            ...                  ...                            ...   \n13115102  62200966  3424000680720000010  2020-12-28T15:54:39.692+07:00   \n11829127  62614308  3381901087120000013  2021-01-15T08:29:33.882+08:00   \n10049075  61614844  3504009579120000016  2020-12-28T12:51:46.637+03:00   \n11828822  62652893  3381901087120000014  2021-01-18T08:10:22.099+08:00   \n14716077  62776870  3190112923420000075  2021-01-19T11:19:14.402+07:00   \n\n          customer_inn customer_legal_form      price execution_period_start  \\\n1339366     7453140707               75000   19000.00             2014-01-01   \n3394970     2346014138               75000     288.36             2014-01-01   \n15340201    8623001078               75000  738190.35             2014-01-01   \n3394917     2310120340               75000  446704.91             2014-01-01   \n15949976    4322012086               75104  501223.01             2014-01-01   \n...                ...                 ...        ...                    ...   \n13115102    4240006807               75403  141692.96             2020-11-18   \n11829127    3819010871               75403   46620.00             2020-11-23   \n10049075    5040095791               75403  101569.26             2020-11-24   \n11828822    3819010871               75403  134760.44             2020-11-26   \n14716077    1901129234               75404  178274.58             2020-12-16   \n\n         execution_period_end  \\\n1339366            2014-12-31   \n3394970            2015-01-13   \n15340201           2015-01-31   \n3394917            2014-12-31   \n15949976           2016-12-31   \n...                       ...   \n13115102           2020-12-30   \n11829127           2020-12-31   \n10049075           2020-12-31   \n11828822           2020-12-31   \n14716077           2020-12-31   \n\n                                               product_code  \\\n1339366                                        64.20.11.113   \n3394970                                        64.20.12.133   \n15340201                                       15.33.25.125   \n3394917                                        64.20.14.000   \n15949976  <Element '{http://zakupki.gov.ru/oos/types/1}c...   \n...                                                     ...   \n13115102  <Element '{http://zakupki.gov.ru/oos/types/1}c...   \n11829127  <Element '{http://zakupki.gov.ru/oos/types/1}c...   \n10049075  <Element '{http://zakupki.gov.ru/oos/types/1}c...   \n11828822  <Element '{http://zakupki.gov.ru/oos/types/1}c...   \n14716077  <Element '{http://zakupki.gov.ru/oos/types/1}c...   \n\n         supplier_legal_form supplier_inn current_contract_stage  time  \n1339366                12247   7707049388                     ET   365  \n3394970                12247   7707049388                     ET   378  \n15340201               12300   8602021468                     ET   396  \n3394917                12247   7707049388                     ET   365  \n15949976               12200   5612042824                     ET  1096  \n...                      ...          ...                    ...   ...  \n13115102               12300   4205262886                     ET    43  \n11829127               12267   3840001848                     ET    39  \n10049075               12300   7724364407                     ET    38  \n11828822               12267   3840001848                     ET    36  \n14716077               12300   1901064509                     ET    16  \n\n[6541 rows x 13 columns]",
      "text/html": "<div>\n<style scoped>\n    .dataframe tbody tr th:only-of-type {\n        vertical-align: middle;\n    }\n\n    .dataframe tbody tr th {\n        vertical-align: top;\n    }\n\n    .dataframe thead th {\n        text-align: right;\n    }\n</style>\n<table border=\"1\" class=\"dataframe\">\n  <thead>\n    <tr style=\"text-align: right;\">\n      <th></th>\n      <th>id</th>\n      <th>reg_num</th>\n      <th>publish_date</th>\n      <th>customer_inn</th>\n      <th>customer_legal_form</th>\n      <th>price</th>\n      <th>execution_period_start</th>\n      <th>execution_period_end</th>\n      <th>product_code</th>\n      <th>supplier_legal_form</th>\n      <th>supplier_inn</th>\n      <th>current_contract_stage</th>\n      <th>time</th>\n    </tr>\n  </thead>\n  <tbody>\n    <tr>\n      <th>1339366</th>\n      <td>19424560</td>\n      <td>369100012414000023</td>\n      <td>2015-01-27T09:38:27.156+05:00</td>\n      <td>7453140707</td>\n      <td>75000</td>\n      <td>19000.00</td>\n      <td>2014-01-01</td>\n      <td>2014-12-31</td>\n      <td>64.20.11.113</td>\n      <td>12247</td>\n      <td>7707049388</td>\n      <td>ET</td>\n      <td>365</td>\n    </tr>\n    <tr>\n      <th>3394970</th>\n      <td>18652463</td>\n      <td>318300336414000002</td>\n      <td>2015-01-14T14:09:40.279+03:00</td>\n      <td>2346014138</td>\n      <td>75000</td>\n      <td>288.36</td>\n      <td>2014-01-01</td>\n      <td>2015-01-13</td>\n      <td>64.20.12.133</td>\n      <td>12247</td>\n      <td>7707049388</td>\n      <td>ET</td>\n      <td>378</td>\n    </tr>\n    <tr>\n      <th>15340201</th>\n      <td>19362351</td>\n      <td>387300062613000130</td>\n      <td>2015-01-23T16:11:01.972+05:00</td>\n      <td>8623001078</td>\n      <td>75000</td>\n      <td>738190.35</td>\n      <td>2014-01-01</td>\n      <td>2015-01-31</td>\n      <td>15.33.25.125</td>\n      <td>12300</td>\n      <td>8602021468</td>\n      <td>ET</td>\n      <td>396</td>\n    </tr>\n    <tr>\n      <th>3394917</th>\n      <td>15763889</td>\n      <td>318200049214000002</td>\n      <td>2015-01-28T14:33:34.742+03:00</td>\n      <td>2310120340</td>\n      <td>75000</td>\n      <td>446704.91</td>\n      <td>2014-01-01</td>\n      <td>2014-12-31</td>\n      <td>64.20.14.000</td>\n      <td>12247</td>\n      <td>7707049388</td>\n      <td>ET</td>\n      <td>365</td>\n    </tr>\n    <tr>\n      <th>15949976</th>\n      <td>31769878</td>\n      <td>340100017314000003</td>\n      <td>2017-01-28T19:16:56.042+03:00</td>\n      <td>4322012086</td>\n      <td>75104</td>\n      <td>501223.01</td>\n      <td>2014-01-01</td>\n      <td>2016-12-31</td>\n      <td>&lt;Element '{http://zakupki.gov.ru/oos/types/1}c...</td>\n      <td>12200</td>\n      <td>5612042824</td>\n      <td>ET</td>\n      <td>1096</td>\n    </tr>\n    <tr>\n      <th>...</th>\n      <td>...</td>\n      <td>...</td>\n      <td>...</td>\n      <td>...</td>\n      <td>...</td>\n      <td>...</td>\n      <td>...</td>\n      <td>...</td>\n      <td>...</td>\n      <td>...</td>\n      <td>...</td>\n      <td>...</td>\n      <td>...</td>\n    </tr>\n    <tr>\n      <th>13115102</th>\n      <td>62200966</td>\n      <td>3424000680720000010</td>\n      <td>2020-12-28T15:54:39.692+07:00</td>\n      <td>4240006807</td>\n      <td>75403</td>\n      <td>141692.96</td>\n      <td>2020-11-18</td>\n      <td>2020-12-30</td>\n      <td>&lt;Element '{http://zakupki.gov.ru/oos/types/1}c...</td>\n      <td>12300</td>\n      <td>4205262886</td>\n      <td>ET</td>\n      <td>43</td>\n    </tr>\n    <tr>\n      <th>11829127</th>\n      <td>62614308</td>\n      <td>3381901087120000013</td>\n      <td>2021-01-15T08:29:33.882+08:00</td>\n      <td>3819010871</td>\n      <td>75403</td>\n      <td>46620.00</td>\n      <td>2020-11-23</td>\n      <td>2020-12-31</td>\n      <td>&lt;Element '{http://zakupki.gov.ru/oos/types/1}c...</td>\n      <td>12267</td>\n      <td>3840001848</td>\n      <td>ET</td>\n      <td>39</td>\n    </tr>\n    <tr>\n      <th>10049075</th>\n      <td>61614844</td>\n      <td>3504009579120000016</td>\n      <td>2020-12-28T12:51:46.637+03:00</td>\n      <td>5040095791</td>\n      <td>75403</td>\n      <td>101569.26</td>\n      <td>2020-11-24</td>\n      <td>2020-12-31</td>\n      <td>&lt;Element '{http://zakupki.gov.ru/oos/types/1}c...</td>\n      <td>12300</td>\n      <td>7724364407</td>\n      <td>ET</td>\n      <td>38</td>\n    </tr>\n    <tr>\n      <th>11828822</th>\n      <td>62652893</td>\n      <td>3381901087120000014</td>\n      <td>2021-01-18T08:10:22.099+08:00</td>\n      <td>3819010871</td>\n      <td>75403</td>\n      <td>134760.44</td>\n      <td>2020-11-26</td>\n      <td>2020-12-31</td>\n      <td>&lt;Element '{http://zakupki.gov.ru/oos/types/1}c...</td>\n      <td>12267</td>\n      <td>3840001848</td>\n      <td>ET</td>\n      <td>36</td>\n    </tr>\n    <tr>\n      <th>14716077</th>\n      <td>62776870</td>\n      <td>3190112923420000075</td>\n      <td>2021-01-19T11:19:14.402+07:00</td>\n      <td>1901129234</td>\n      <td>75404</td>\n      <td>178274.58</td>\n      <td>2020-12-16</td>\n      <td>2020-12-31</td>\n      <td>&lt;Element '{http://zakupki.gov.ru/oos/types/1}c...</td>\n      <td>12300</td>\n      <td>1901064509</td>\n      <td>ET</td>\n      <td>16</td>\n    </tr>\n  </tbody>\n</table>\n<p>6541 rows × 13 columns</p>\n</div>"
     },
     "execution_count": 159,
     "metadata": {},
     "output_type": "execute_result"
    }
   ],
   "source": [
    "data[data['current_contract_stage']=='ET']"
   ],
   "metadata": {
    "collapsed": false,
    "ExecuteTime": {
     "end_time": "2023-06-11T03:23:49.757047900Z",
     "start_time": "2023-06-11T03:23:49.728728100Z"
    }
   }
  },
  {
   "cell_type": "code",
   "execution_count": null,
   "outputs": [],
   "source": [],
   "metadata": {
    "collapsed": false
   }
  }
 ]
}
