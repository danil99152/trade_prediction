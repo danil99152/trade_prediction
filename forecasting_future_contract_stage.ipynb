{
 "nbformat": 4,
 "nbformat_minor": 0,
 "metadata": {
  "colab": {
   "provenance": [],
   "collapsed_sections": [
    "_01Imd1P1YMo",
    "RdMmduLB1gAA",
    "psGoXXPzXxEb"
   ]
  },
  "kernelspec": {
   "display_name": "Python 3",
   "language": "python",
   "name": "python3"
  },
  "language_info": {
   "codemirror_mode": {
    "name": "ipython",
    "version": 3
   },
   "file_extension": ".py",
   "mimetype": "text/x-python",
   "name": "python",
   "nbconvert_exporter": "python",
   "pygments_lexer": "ipython3",
   "version": "3.8.3"
  },
  "accelerator": "GPU"
 },
 "cells": [
  {
   "cell_type": "markdown",
   "source": [
    "# Импорт"
   ],
   "metadata": {
    "collapsed": false
   }
  },
  {
   "cell_type": "code",
   "metadata": {
    "id": "cDd075kQsc12",
    "ExecuteTime": {
     "end_time": "2023-06-11T12:54:08.560799200Z",
     "start_time": "2023-06-11T12:54:08.533581800Z"
    }
   },
   "source": [
    "import gc\n",
    "import os\n",
    "\n",
    "import pandas as pd\n",
    "%matplotlib inline\n",
    "\n",
    "from sklearn.metrics import classification_report\n",
    "from sklearn.metrics import confusion_matrix, ConfusionMatrixDisplay\n",
    "\n",
    "from catboost import CatBoostClassifier"
   ],
   "execution_count": 46,
   "outputs": []
  },
  {
   "cell_type": "markdown",
   "metadata": {
    "id": "RdMmduLB1gAA"
   },
   "source": [
    "# Обработка данных"
   ]
  },
  {
   "cell_type": "markdown",
   "metadata": {
    "id": "xxcMKOMV0U_G"
   },
   "source": [
    "Считывание данных о контрактах"
   ]
  },
  {
   "cell_type": "code",
   "metadata": {
    "colab": {
     "base_uri": "https://localhost:8080/",
     "height": 206
    },
    "id": "q0MqHHaUs3ra",
    "outputId": "d83ad410-95b5-43de-c150-c583510ac007",
    "ExecuteTime": {
     "end_time": "2023-06-11T12:55:09.134667400Z",
     "start_time": "2023-06-11T12:54:10.149920500Z"
    }
   },
   "source": [
    "contract_path = os.path.abspath('C:\\csv\\contracts.csv')\n",
    "dtypes = {'product_code' : 'category', \n",
    "          'customer_legal_form' : 'category', \n",
    "          'supplier_legal_form' : 'category', \n",
    "          'current_contract_stage' : 'category'}\n",
    "parse_dates = ['execution_period_start']\n",
    "data = pd.read_csv(contract_path, dtype = dtypes, parse_dates = parse_dates, infer_datetime_format = True)\n",
    "gc.collect()\n",
    "data['execution_period_start'] = pd.to_datetime(data['execution_period_start'], format = \"%Y-%m-%d\", errors = 'coerce')\n",
    "data['execution_period_end'] = pd.to_datetime(data['execution_period_end'], format = \"%Y-%m-%d\", errors = 'coerce')\n",
    "data.head()"
   ],
   "execution_count": 47,
   "outputs": [
    {
     "name": "stderr",
     "output_type": "stream",
     "text": [
      "C:\\Users\\Данил\\AppData\\Local\\Temp\\ipykernel_12700\\3439507682.py:7: FutureWarning: The argument 'infer_datetime_format' is deprecated and will be removed in a future version. A strict version of it is now the default, see https://pandas.pydata.org/pdeps/0004-consistent-to-datetime-parsing.html. You can safely remove this argument.\n",
      "  data = pd.read_csv(contract_path, dtype = dtypes, parse_dates = parse_dates, infer_datetime_format = True)\n",
      "C:\\Users\\Данил\\AppData\\Local\\Temp\\ipykernel_12700\\3439507682.py:7: DtypeWarning: Columns (10) have mixed types. Specify dtype option on import or set low_memory=False.\n",
      "  data = pd.read_csv(contract_path, dtype = dtypes, parse_dates = parse_dates, infer_datetime_format = True)\n"
     ]
    },
    {
     "data": {
      "text/plain": "         id              reg_num                   publish_date  customer_inn  \\\n0  39372925  2056104253518000008  2018-01-18T12:25:48.307+03:00     561042535   \n1  39141990  2056104253517000135  2018-01-12T11:41:48.714+03:00     561042535   \n2  39452733  2056203249818000006  2018-01-23T09:12:49.012+03:00     562032498   \n3  39762144  1057000290918000009  2018-01-31T18:50:01.658+03:00     570002909   \n4  39348176  2056207055018000003  2018-01-17T16:47:12.637+03:00     562070550   \n\n  customer_legal_form       price execution_period_start execution_period_end  \\\n0               75203    72500.00             2018-01-18           2018-03-31   \n1               75203   991142.46             2017-10-24           2018-12-31   \n2               75203   170000.00             2018-01-22           2018-03-31   \n3               75104   200000.00             2018-01-29           2018-12-31   \n4               75204  6393010.00             2017-06-20           2017-09-30   \n\n                                        product_code supplier_legal_form  \\\n0  <Element '{http://zakupki.gov.ru/oos/types/1}c...               12300   \n1  <Element '{http://zakupki.gov.ru/oos/types/1}c...               12300   \n2  <Element '{http://zakupki.gov.ru/oos/types/1}c...                 NaN   \n3  <Element '{http://zakupki.gov.ru/oos/types/1}c...               12300   \n4  <Element '{http://zakupki.gov.ru/oos/types/1}c...               12300   \n\n  supplier_inn current_contract_stage  \n0    561046931                      E  \n1    561046931                      E  \n2  56207573829                      E  \n3    545019120                      E  \n4    506066768                      E  ",
      "text/html": "<div>\n<style scoped>\n    .dataframe tbody tr th:only-of-type {\n        vertical-align: middle;\n    }\n\n    .dataframe tbody tr th {\n        vertical-align: top;\n    }\n\n    .dataframe thead th {\n        text-align: right;\n    }\n</style>\n<table border=\"1\" class=\"dataframe\">\n  <thead>\n    <tr style=\"text-align: right;\">\n      <th></th>\n      <th>id</th>\n      <th>reg_num</th>\n      <th>publish_date</th>\n      <th>customer_inn</th>\n      <th>customer_legal_form</th>\n      <th>price</th>\n      <th>execution_period_start</th>\n      <th>execution_period_end</th>\n      <th>product_code</th>\n      <th>supplier_legal_form</th>\n      <th>supplier_inn</th>\n      <th>current_contract_stage</th>\n    </tr>\n  </thead>\n  <tbody>\n    <tr>\n      <th>0</th>\n      <td>39372925</td>\n      <td>2056104253518000008</td>\n      <td>2018-01-18T12:25:48.307+03:00</td>\n      <td>561042535</td>\n      <td>75203</td>\n      <td>72500.00</td>\n      <td>2018-01-18</td>\n      <td>2018-03-31</td>\n      <td>&lt;Element '{http://zakupki.gov.ru/oos/types/1}c...</td>\n      <td>12300</td>\n      <td>561046931</td>\n      <td>E</td>\n    </tr>\n    <tr>\n      <th>1</th>\n      <td>39141990</td>\n      <td>2056104253517000135</td>\n      <td>2018-01-12T11:41:48.714+03:00</td>\n      <td>561042535</td>\n      <td>75203</td>\n      <td>991142.46</td>\n      <td>2017-10-24</td>\n      <td>2018-12-31</td>\n      <td>&lt;Element '{http://zakupki.gov.ru/oos/types/1}c...</td>\n      <td>12300</td>\n      <td>561046931</td>\n      <td>E</td>\n    </tr>\n    <tr>\n      <th>2</th>\n      <td>39452733</td>\n      <td>2056203249818000006</td>\n      <td>2018-01-23T09:12:49.012+03:00</td>\n      <td>562032498</td>\n      <td>75203</td>\n      <td>170000.00</td>\n      <td>2018-01-22</td>\n      <td>2018-03-31</td>\n      <td>&lt;Element '{http://zakupki.gov.ru/oos/types/1}c...</td>\n      <td>NaN</td>\n      <td>56207573829</td>\n      <td>E</td>\n    </tr>\n    <tr>\n      <th>3</th>\n      <td>39762144</td>\n      <td>1057000290918000009</td>\n      <td>2018-01-31T18:50:01.658+03:00</td>\n      <td>570002909</td>\n      <td>75104</td>\n      <td>200000.00</td>\n      <td>2018-01-29</td>\n      <td>2018-12-31</td>\n      <td>&lt;Element '{http://zakupki.gov.ru/oos/types/1}c...</td>\n      <td>12300</td>\n      <td>545019120</td>\n      <td>E</td>\n    </tr>\n    <tr>\n      <th>4</th>\n      <td>39348176</td>\n      <td>2056207055018000003</td>\n      <td>2018-01-17T16:47:12.637+03:00</td>\n      <td>562070550</td>\n      <td>75204</td>\n      <td>6393010.00</td>\n      <td>2017-06-20</td>\n      <td>2017-09-30</td>\n      <td>&lt;Element '{http://zakupki.gov.ru/oos/types/1}c...</td>\n      <td>12300</td>\n      <td>506066768</td>\n      <td>E</td>\n    </tr>\n  </tbody>\n</table>\n</div>"
     },
     "execution_count": 47,
     "metadata": {},
     "output_type": "execute_result"
    }
   ]
  },
  {
   "cell_type": "code",
   "source": [
    "data = data.dropna()"
   ],
   "metadata": {
    "colab": {
     "base_uri": "https://localhost:8080/",
     "height": 699
    },
    "id": "kwwubWtkizEX",
    "outputId": "57370ceb-d594-4fd5-9d60-322827e63456",
    "ExecuteTime": {
     "end_time": "2023-06-11T12:55:13.266279Z",
     "start_time": "2023-06-11T12:55:09.140779500Z"
    }
   },
   "execution_count": 48,
   "outputs": []
  },
  {
   "cell_type": "code",
   "execution_count": 49,
   "outputs": [],
   "source": [
    "# data = data[(data['execution_period_start'] >= pd.Timestamp(2014,1,1))]"
   ],
   "metadata": {
    "collapsed": false,
    "ExecuteTime": {
     "end_time": "2023-06-11T12:55:13.271279400Z",
     "start_time": "2023-06-11T12:55:13.266279Z"
    }
   }
  },
  {
   "cell_type": "code",
   "execution_count": 50,
   "outputs": [],
   "source": [
    "data = data[\n",
    "    (data['customer_legal_form'] == '65143') |\n",
    "    (data['customer_legal_form'] == '65243') |\n",
    "    (data['customer_legal_form'] == '75400') |\n",
    "    (data['customer_legal_form'] == '75401') |\n",
    "    (data['customer_legal_form'] == '75403') |\n",
    "    (data['customer_legal_form'] == '75404')\n",
    "]"
   ],
   "metadata": {
    "collapsed": false,
    "ExecuteTime": {
     "end_time": "2023-06-11T12:55:14.156632Z",
     "start_time": "2023-06-11T12:55:13.267280200Z"
    }
   }
  },
  {
   "cell_type": "code",
   "execution_count": 51,
   "outputs": [],
   "source": [
    "OKOPF_old = {\n",
    "    '12100' : '10000',\n",
    "    '12165' : '12300', #Общества с ограниченной ответственностью\n",
    "    '12166' : '10000',\n",
    "    '15000' : '65000', #Унитарные предприятия\n",
    "    '15100' : '65100',  #Унитарные предприятия, основанные на праве оперативного управления (казенные предприятия)\n",
    "    '15141' : '65141', #Федеральные казенные предприятия\n",
    "    '15142' : '65142', #Казенные предприятия субъектов Российской Федерации\n",
    "    '15143' : '65143', #Муниципальные казенные предприятия\n",
    "    '15200' : '65200', #Унитарные предприятия, основанные на праве хозяйственного ведения\n",
    "    '15241' : '65241', #Федеральные государственные унитарные предприятия\n",
    "    '15242' : '65242', #Государственные унитарные предприятия субъектов Российской Федерации\n",
    "    '15243' : '65243', #Муниципальные унитарные предприятия\n",
    "    '20114' : 'Not Applicable',\n",
    "    '20300' : '71500',\n",
    "    '20400' : '70400', #Фонды\n",
    "    '20401' : '70401', #Благотворительные фонды\n",
    "    '20402' : '70402', #Негосударственные пенсионные фонды\n",
    "    '20403' : '70403', #Общественные фонды\n",
    "    '20404' : '70404', #Экологические фонды\n",
    "    '20500' : '20614', #Некоммерческие партнерства\n",
    "    '20617' : 'Not Applicable',\n",
    "    '20618' : 'Not Applicable',\n",
    "    '20701' : '20702',\n",
    "    '20800' : '20600',\n",
    "    '20801' : '20609',\n",
    "    '20802' : '20610',\n",
    "    '20803' : '20611',\n",
    "    '20810' : '21200',\n",
    "    '20816' : '20716',\n",
    "    '20900' : '75000', #Учреждения\n",
    "    '20901' : '75000', #Автономные учреждения -> Учреждения, из-за подразделения на уровни в новом ОКОПФ\n",
    "    '20902' : '75502', #Благотворительные учреждения\n",
    "    '20903' : '75000', #Бюджетные учреждения, Аналогично Автономным учреждениям\n",
    "    '20904' : '75000', #Казеннные учреждения, Аналогично Автономным учреждениям\n",
    "    '20905' : '75505', #Общественные учреждения\n",
    "    '20906' : '75500', #Учреждения\n",
    "    '20907' : '75000', #Учреждения акакдемий наук, в новом классификаторе такая категория отсутсвует поэтому переставляем на более общую категорию\n",
    "    '20908' : '75000', #Учреждения религиозных организаций, в новом классификаторе такая категория отсутсвует поэтому переставляем на более общую категорию\n",
    "    '21001' : '20701', #Садоводческие, огороднические или дачные некоммерческие товарищества\n",
    "    '28000' : 'Not Applicable',   #Иные Некоммерческие организации\n",
    "    '28001' : '71400', #Автономные некоммерческие организации\n",
    "    '28002' : '20615',\n",
    "    '28003' : '75300',\n",
    "    '28004' : '71602', #Государственные компании\n",
    "    '28005' : '71601', #Государственные корпорации\n",
    "    '28006' : '21100', #Казачьи общества -> Казачьи общества, внесенные в государственный реестр казачьих обществ в Российской Федерации\n",
    "    '28007' : '20616',\n",
    "    '28008' : '20108',\n",
    "    '28010' : '21200',\n",
    "    '28012' : '20612',\n",
    "    '28013' : 'Not Applicable',\n",
    "    '28014' : '71610',\n",
    "    '28016' : '20716',\n",
    "    '28017' : '20217', #Территориальные общественные самоуправления\n",
    "    '29000' : 'Not Applicable',   #Иные Некоммерческие организации\n",
    "}"
   ],
   "metadata": {
    "collapsed": false,
    "ExecuteTime": {
     "end_time": "2023-06-11T12:55:14.162631800Z",
     "start_time": "2023-06-11T12:55:14.156632Z"
    }
   }
  },
  {
   "cell_type": "code",
   "execution_count": 52,
   "outputs": [],
   "source": [
    "data['customer_legal_form'] = data['customer_legal_form'].map(OKOPF_old).fillna(data['customer_legal_form'])\n",
    "data = data[data['customer_legal_form'] != 'Not Applicable']"
   ],
   "metadata": {
    "collapsed": false,
    "ExecuteTime": {
     "end_time": "2023-06-11T12:55:15.961852Z",
     "start_time": "2023-06-11T12:55:14.157632200Z"
    }
   }
  },
  {
   "cell_type": "code",
   "execution_count": 53,
   "outputs": [],
   "source": [
    "data['supplier_legal_form'] = data['supplier_legal_form'].map(OKOPF_old).fillna(data['supplier_legal_form'])\n",
    "data = data[data['supplier_legal_form'] != 'Not Applicable']"
   ],
   "metadata": {
    "collapsed": false,
    "ExecuteTime": {
     "end_time": "2023-06-11T12:55:17.145031700Z",
     "start_time": "2023-06-11T12:55:15.961852Z"
    }
   }
  },
  {
   "cell_type": "code",
   "execution_count": 54,
   "outputs": [],
   "source": [
    "data = data[(data['price'] > 0)]"
   ],
   "metadata": {
    "collapsed": false,
    "ExecuteTime": {
     "end_time": "2023-06-11T12:55:17.602858800Z",
     "start_time": "2023-06-11T12:55:17.145031700Z"
    }
   }
  },
  {
   "cell_type": "code",
   "execution_count": 55,
   "outputs": [
    {
     "data": {
      "text/plain": "3380670"
     },
     "execution_count": 55,
     "metadata": {},
     "output_type": "execute_result"
    }
   ],
   "source": [
    "len(data)"
   ],
   "metadata": {
    "collapsed": false,
    "ExecuteTime": {
     "end_time": "2023-06-11T12:55:17.603866600Z",
     "start_time": "2023-06-11T12:55:17.603866600Z"
    }
   }
  },
  {
   "cell_type": "code",
   "execution_count": 56,
   "outputs": [],
   "source": [
    "data = data[(data['current_contract_stage'] != \"E\")]"
   ],
   "metadata": {
    "collapsed": false,
    "ExecuteTime": {
     "end_time": "2023-06-11T12:55:32.462235200Z",
     "start_time": "2023-06-11T12:55:32.323264900Z"
    }
   }
  },
  {
   "cell_type": "code",
   "execution_count": 57,
   "outputs": [
    {
     "data": {
      "text/plain": "                id              reg_num                   publish_date  \\\n648       39098703  3054501142717000005  2018-01-12T18:13:32.908+03:00   \n2791      52419225  3051500439819000022  2020-01-10T10:32:10.567+03:00   \n7712      61407637  3054900195920000005  2020-12-22T15:08:42.643+03:00   \n8050      61632041  3054201716320000003  2020-12-16T12:24:59.437+03:00   \n11425     46354859  3056206294318000001  2018-12-24T11:02:28.637+03:00   \n...            ...                  ...                            ...   \n16473011  41333952  3410900532515000006  2018-04-13T09:31:17.819+12:00   \n16473873  53982265  3820200040019000001  2019-12-26T18:10:46.293+12:00   \n16474861  39775263  3410900373717000003  2018-01-31T17:16:38.554+12:00   \n16476837  35276559  3410200387217000001  2017-07-13T21:24:56.151+12:00   \n16480582  59152500  3820400749618000001  2020-08-03T16:18:39.556+12:00   \n\n          customer_inn customer_legal_form        price  \\\n648          545011427               75404    601773.01   \n2791         515004398               75404   6956744.00   \n7712         549001959               75404    178089.96   \n8050         542017163               75403   3173064.00   \n11425        562062943               75403   2040000.00   \n...                ...                 ...          ...   \n16473011    4109005325               75401    203172.00   \n16473873    8202000400               75404    450000.00   \n16474861    4109003737               75403     24602.98   \n16476837    4102003872               75403    398727.00   \n16480582    8204007496               75404  83158560.58   \n\n         execution_period_start execution_period_end  \\\n648                  2017-03-20           2017-12-31   \n2791                 2019-08-05           2019-11-04   \n7712                 2020-07-01           2020-12-31   \n8050                 2020-05-12           2020-07-23   \n11425                2018-11-26           2018-12-15   \n...                         ...                  ...   \n16473011             2015-02-05           2016-01-29   \n16473873             2019-05-27           2019-12-20   \n16474861             2017-01-11           2017-12-31   \n16476837             2017-05-13           2017-07-17   \n16480582             2018-07-23           2019-11-01   \n\n                                               product_code  \\\n648       <Element '{http://zakupki.gov.ru/oos/types/1}c...   \n2791      <Element '{http://zakupki.gov.ru/oos/types/1}c...   \n7712      <Element '{http://zakupki.gov.ru/oos/types/1}c...   \n8050      <Element '{http://zakupki.gov.ru/oos/types/1}c...   \n11425     <Element '{http://zakupki.gov.ru/oos/types/1}c...   \n...                                                     ...   \n16473011                                       45.21.12.110   \n16473873  <Element '{http://zakupki.gov.ru/oos/types/1}c...   \n16474861  <Element '{http://zakupki.gov.ru/oos/types/1}c...   \n16476837  <Element '{http://zakupki.gov.ru/oos/types/1}c...   \n16480582  <Element '{http://zakupki.gov.ru/oos/types/1}c...   \n\n         supplier_legal_form supplier_inn current_contract_stage  \n648                    12300    554002010                     ET  \n2791                   12300    572005648                     EC  \n7712                   65243    549001613                     EC  \n8050                   12300    550003492                     EC  \n11425                  12300    562075526                     EC  \n...                      ...          ...                    ...  \n16473011               65000   4100000731                     EC  \n16473873               12300   4101160110                     EC  \n16474861               12300   4109005406                     ET  \n16476837               65243   4102001240                     EC  \n16480582               12300   7901544658                     EC  \n\n[15867 rows x 12 columns]",
      "text/html": "<div>\n<style scoped>\n    .dataframe tbody tr th:only-of-type {\n        vertical-align: middle;\n    }\n\n    .dataframe tbody tr th {\n        vertical-align: top;\n    }\n\n    .dataframe thead th {\n        text-align: right;\n    }\n</style>\n<table border=\"1\" class=\"dataframe\">\n  <thead>\n    <tr style=\"text-align: right;\">\n      <th></th>\n      <th>id</th>\n      <th>reg_num</th>\n      <th>publish_date</th>\n      <th>customer_inn</th>\n      <th>customer_legal_form</th>\n      <th>price</th>\n      <th>execution_period_start</th>\n      <th>execution_period_end</th>\n      <th>product_code</th>\n      <th>supplier_legal_form</th>\n      <th>supplier_inn</th>\n      <th>current_contract_stage</th>\n    </tr>\n  </thead>\n  <tbody>\n    <tr>\n      <th>648</th>\n      <td>39098703</td>\n      <td>3054501142717000005</td>\n      <td>2018-01-12T18:13:32.908+03:00</td>\n      <td>545011427</td>\n      <td>75404</td>\n      <td>601773.01</td>\n      <td>2017-03-20</td>\n      <td>2017-12-31</td>\n      <td>&lt;Element '{http://zakupki.gov.ru/oos/types/1}c...</td>\n      <td>12300</td>\n      <td>554002010</td>\n      <td>ET</td>\n    </tr>\n    <tr>\n      <th>2791</th>\n      <td>52419225</td>\n      <td>3051500439819000022</td>\n      <td>2020-01-10T10:32:10.567+03:00</td>\n      <td>515004398</td>\n      <td>75404</td>\n      <td>6956744.00</td>\n      <td>2019-08-05</td>\n      <td>2019-11-04</td>\n      <td>&lt;Element '{http://zakupki.gov.ru/oos/types/1}c...</td>\n      <td>12300</td>\n      <td>572005648</td>\n      <td>EC</td>\n    </tr>\n    <tr>\n      <th>7712</th>\n      <td>61407637</td>\n      <td>3054900195920000005</td>\n      <td>2020-12-22T15:08:42.643+03:00</td>\n      <td>549001959</td>\n      <td>75404</td>\n      <td>178089.96</td>\n      <td>2020-07-01</td>\n      <td>2020-12-31</td>\n      <td>&lt;Element '{http://zakupki.gov.ru/oos/types/1}c...</td>\n      <td>65243</td>\n      <td>549001613</td>\n      <td>EC</td>\n    </tr>\n    <tr>\n      <th>8050</th>\n      <td>61632041</td>\n      <td>3054201716320000003</td>\n      <td>2020-12-16T12:24:59.437+03:00</td>\n      <td>542017163</td>\n      <td>75403</td>\n      <td>3173064.00</td>\n      <td>2020-05-12</td>\n      <td>2020-07-23</td>\n      <td>&lt;Element '{http://zakupki.gov.ru/oos/types/1}c...</td>\n      <td>12300</td>\n      <td>550003492</td>\n      <td>EC</td>\n    </tr>\n    <tr>\n      <th>11425</th>\n      <td>46354859</td>\n      <td>3056206294318000001</td>\n      <td>2018-12-24T11:02:28.637+03:00</td>\n      <td>562062943</td>\n      <td>75403</td>\n      <td>2040000.00</td>\n      <td>2018-11-26</td>\n      <td>2018-12-15</td>\n      <td>&lt;Element '{http://zakupki.gov.ru/oos/types/1}c...</td>\n      <td>12300</td>\n      <td>562075526</td>\n      <td>EC</td>\n    </tr>\n    <tr>\n      <th>...</th>\n      <td>...</td>\n      <td>...</td>\n      <td>...</td>\n      <td>...</td>\n      <td>...</td>\n      <td>...</td>\n      <td>...</td>\n      <td>...</td>\n      <td>...</td>\n      <td>...</td>\n      <td>...</td>\n      <td>...</td>\n    </tr>\n    <tr>\n      <th>16473011</th>\n      <td>41333952</td>\n      <td>3410900532515000006</td>\n      <td>2018-04-13T09:31:17.819+12:00</td>\n      <td>4109005325</td>\n      <td>75401</td>\n      <td>203172.00</td>\n      <td>2015-02-05</td>\n      <td>2016-01-29</td>\n      <td>45.21.12.110</td>\n      <td>65000</td>\n      <td>4100000731</td>\n      <td>EC</td>\n    </tr>\n    <tr>\n      <th>16473873</th>\n      <td>53982265</td>\n      <td>3820200040019000001</td>\n      <td>2019-12-26T18:10:46.293+12:00</td>\n      <td>8202000400</td>\n      <td>75404</td>\n      <td>450000.00</td>\n      <td>2019-05-27</td>\n      <td>2019-12-20</td>\n      <td>&lt;Element '{http://zakupki.gov.ru/oos/types/1}c...</td>\n      <td>12300</td>\n      <td>4101160110</td>\n      <td>EC</td>\n    </tr>\n    <tr>\n      <th>16474861</th>\n      <td>39775263</td>\n      <td>3410900373717000003</td>\n      <td>2018-01-31T17:16:38.554+12:00</td>\n      <td>4109003737</td>\n      <td>75403</td>\n      <td>24602.98</td>\n      <td>2017-01-11</td>\n      <td>2017-12-31</td>\n      <td>&lt;Element '{http://zakupki.gov.ru/oos/types/1}c...</td>\n      <td>12300</td>\n      <td>4109005406</td>\n      <td>ET</td>\n    </tr>\n    <tr>\n      <th>16476837</th>\n      <td>35276559</td>\n      <td>3410200387217000001</td>\n      <td>2017-07-13T21:24:56.151+12:00</td>\n      <td>4102003872</td>\n      <td>75403</td>\n      <td>398727.00</td>\n      <td>2017-05-13</td>\n      <td>2017-07-17</td>\n      <td>&lt;Element '{http://zakupki.gov.ru/oos/types/1}c...</td>\n      <td>65243</td>\n      <td>4102001240</td>\n      <td>EC</td>\n    </tr>\n    <tr>\n      <th>16480582</th>\n      <td>59152500</td>\n      <td>3820400749618000001</td>\n      <td>2020-08-03T16:18:39.556+12:00</td>\n      <td>8204007496</td>\n      <td>75404</td>\n      <td>83158560.58</td>\n      <td>2018-07-23</td>\n      <td>2019-11-01</td>\n      <td>&lt;Element '{http://zakupki.gov.ru/oos/types/1}c...</td>\n      <td>12300</td>\n      <td>7901544658</td>\n      <td>EC</td>\n    </tr>\n  </tbody>\n</table>\n<p>15867 rows × 12 columns</p>\n</div>"
     },
     "execution_count": 57,
     "metadata": {},
     "output_type": "execute_result"
    }
   ],
   "source": [
    "data"
   ],
   "metadata": {
    "collapsed": false,
    "ExecuteTime": {
     "end_time": "2023-06-11T12:55:33.660767Z",
     "start_time": "2023-06-11T12:55:33.606123700Z"
    }
   }
  },
  {
   "cell_type": "markdown",
   "metadata": {
    "id": "arae_vGwz29m"
   },
   "source": [
    "Из системы госзакупок:\n",
    "*   EC - Завершен\n",
    "*   E - Выполяется\n",
    "*   ET - Исполнение прекращено\n",
    "*   IN - Контракт Аннулирован\n",
    "\n",
    "Добавленные:\n",
    "*   Unknown - Результат неизвестен"
   ]
  },
  {
   "cell_type": "markdown",
   "metadata": {
    "id": "_W25zfTmvgw7"
   },
   "source": [
    "# Обучение"
   ]
  },
  {
   "cell_type": "code",
   "execution_count": 58,
   "outputs": [
    {
     "data": {
      "text/plain": "0"
     },
     "execution_count": 58,
     "metadata": {},
     "output_type": "execute_result"
    }
   ],
   "source": [
    "def calculate_time_period(row):\n",
    "  return ((row['execution_period_end'] - row['execution_period_start']).days + 1)\n",
    "\n",
    "data['time'] = data[['execution_period_end', 'execution_period_start']].apply(calculate_time_period, axis=1)\n",
    "gc.collect()"
   ],
   "metadata": {
    "collapsed": false,
    "ExecuteTime": {
     "end_time": "2023-06-11T12:55:54.323734800Z",
     "start_time": "2023-06-11T12:55:53.633993200Z"
    }
   }
  },
  {
   "cell_type": "code",
   "metadata": {
    "colab": {
     "base_uri": "https://localhost:8080/"
    },
    "id": "RIcqtebXEwrq",
    "outputId": "183859c0-5843-42d6-a11b-ecf6ff3f9475",
    "ExecuteTime": {
     "end_time": "2023-06-11T12:55:54.343152700Z",
     "start_time": "2023-06-11T12:55:54.331115200Z"
    }
   },
   "source": [
    "print(\"EC\", len(data[data['current_contract_stage']=='EC']))\n",
    "print(\"ET\", len(data[data['current_contract_stage']=='ET']))"
   ],
   "execution_count": 59,
   "outputs": [
    {
     "name": "stdout",
     "output_type": "stream",
     "text": [
      "EC 12860\n",
      "ET 3007\n"
     ]
    }
   ]
  },
  {
   "cell_type": "code",
   "execution_count": 60,
   "outputs": [],
   "source": [
    "data.sort_values('execution_period_start', inplace = True)"
   ],
   "metadata": {
    "collapsed": false,
    "ExecuteTime": {
     "end_time": "2023-06-11T12:55:58.074705200Z",
     "start_time": "2023-06-11T12:55:58.042283100Z"
    }
   }
  },
  {
   "cell_type": "code",
   "execution_count": 61,
   "outputs": [],
   "source": [
    "ec = data[(data['current_contract_stage']=='EC')]\n",
    "et = data[(data['current_contract_stage']=='ET')]"
   ],
   "metadata": {
    "collapsed": false,
    "ExecuteTime": {
     "end_time": "2023-06-11T12:56:00.819451100Z",
     "start_time": "2023-06-11T12:55:59.166434Z"
    }
   }
  },
  {
   "cell_type": "code",
   "execution_count": 62,
   "outputs": [],
   "source": [
    "def train_test_split(data, percent=20):\n",
    "    last = data.tail(round(len(data) * (percent/100)))\n",
    "    first = data.head(round(len(data) * (1 - (percent/100))))\n",
    "    return first, last"
   ],
   "metadata": {
    "collapsed": false,
    "ExecuteTime": {
     "end_time": "2023-06-11T12:56:00.831421800Z",
     "start_time": "2023-06-11T12:56:00.819451100Z"
    }
   }
  },
  {
   "cell_type": "code",
   "execution_count": 80,
   "outputs": [],
   "source": [
    "x_ec = ec.copy()\n",
    "y_ec = x_ec[['current_contract_stage', 'execution_period_start']]\n",
    "x_ec = x_ec.drop(['reg_num', 'publish_date', 'customer_inn', 'execution_period_end', 'supplier_inn', 'id'], axis=1)\n",
    "x_train_ec, x_test_ec = train_test_split(x_ec)\n",
    "y_train_ec, y_test_ec = train_test_split(y_ec)"
   ],
   "metadata": {
    "collapsed": false,
    "ExecuteTime": {
     "end_time": "2023-06-11T13:02:20.610392200Z",
     "start_time": "2023-06-11T13:02:20.531563600Z"
    }
   }
  },
  {
   "cell_type": "code",
   "execution_count": 81,
   "outputs": [],
   "source": [
    "x_et = et.copy()\n",
    "y_et = x_et[['current_contract_stage', 'execution_period_start']]\n",
    "x_et = x_et.drop(['reg_num', 'publish_date', 'customer_inn', 'execution_period_end', 'supplier_inn', 'id'], axis=1)\n",
    "x_train_et, x_test_et = train_test_split(x_et)\n",
    "y_train_et, y_test_et = train_test_split(y_et)"
   ],
   "metadata": {
    "collapsed": false,
    "ExecuteTime": {
     "end_time": "2023-06-11T13:02:20.747759600Z",
     "start_time": "2023-06-11T13:02:20.739777500Z"
    }
   }
  },
  {
   "cell_type": "code",
   "execution_count": 82,
   "outputs": [],
   "source": [
    "x_train = pd.concat([x_train_ec, x_train_et], ignore_index=True)\n",
    "y_train = pd.concat([y_train_ec, y_train_et], ignore_index=True)\n",
    "x_test = pd.concat([x_test_ec, x_test_et], ignore_index=True)\n",
    "y_test = pd.concat([y_test_ec, y_test_et], ignore_index=True)"
   ],
   "metadata": {
    "collapsed": false,
    "ExecuteTime": {
     "end_time": "2023-06-11T13:02:20.887254100Z",
     "start_time": "2023-06-11T13:02:20.863268300Z"
    }
   }
  },
  {
   "cell_type": "code",
   "execution_count": 83,
   "outputs": [],
   "source": [
    "x_train = x_train.sort_values('execution_period_start').reset_index(drop=True)\n",
    "y_train = y_train.sort_values('execution_period_start').reset_index(drop=True)\n",
    "x_test = x_test.sort_values('execution_period_start').reset_index(drop=True)\n",
    "y_test = y_test.sort_values('execution_period_start').reset_index(drop=True)"
   ],
   "metadata": {
    "collapsed": false,
    "ExecuteTime": {
     "end_time": "2023-06-11T13:02:21.159575500Z",
     "start_time": "2023-06-11T13:02:21.118463800Z"
    }
   }
  },
  {
   "cell_type": "code",
   "execution_count": 84,
   "outputs": [
    {
     "data": {
      "text/plain": "1773"
     },
     "execution_count": 84,
     "metadata": {},
     "output_type": "execute_result"
    }
   ],
   "source": [
    "#Балансировка тренировочных данных\n",
    "old_indexes = round(len(x_train[x_train['current_contract_stage']=='EC'])\n",
    " - len(x_train[x_train['current_contract_stage']=='ET']))\n",
    "x_train.sort_values('current_contract_stage', inplace = True)\n",
    "x_train = x_train.reset_index(drop=True)\n",
    "x_train.drop(x_train[((x_train.index < old_indexes) & (x_train['current_contract_stage']==\"EC\"))].index, inplace=True)\n",
    "\n",
    "y_train.sort_values('current_contract_stage', inplace = True)\n",
    "y_train = y_train.reset_index(drop=True)\n",
    "y_train.drop(y_train[((y_train.index < old_indexes) & (y_train['current_contract_stage']==\"EC\"))].index, inplace=True)\n",
    "gc.collect()"
   ],
   "metadata": {
    "collapsed": false,
    "ExecuteTime": {
     "end_time": "2023-06-11T13:02:21.523165100Z",
     "start_time": "2023-06-11T13:02:21.317453600Z"
    }
   }
  },
  {
   "cell_type": "code",
   "execution_count": 85,
   "outputs": [
    {
     "data": {
      "text/plain": "0"
     },
     "execution_count": 85,
     "metadata": {},
     "output_type": "execute_result"
    }
   ],
   "source": [
    "#Балансировка тестовых данных\n",
    "old_indexes = round(len(x_test[x_test['current_contract_stage']=='EC'])\n",
    " - len(x_test[x_test['current_contract_stage']=='ET']))\n",
    "x_test.sort_values('current_contract_stage', inplace = True)\n",
    "x_test = x_test.reset_index(drop=True)\n",
    "x_test.drop(x_test[((x_test.index < old_indexes) & (x_test['current_contract_stage']==\"EC\"))].index, inplace=True)\n",
    "\n",
    "y_test.sort_values('current_contract_stage', inplace = True)\n",
    "y_test = y_test.reset_index(drop=True)\n",
    "y_test.drop(y_test[((y_test.index < old_indexes) & (y_test['current_contract_stage']==\"EC\"))].index, inplace=True)\n",
    "gc.collect()"
   ],
   "metadata": {
    "collapsed": false,
    "ExecuteTime": {
     "end_time": "2023-06-11T13:02:21.981241500Z",
     "start_time": "2023-06-11T13:02:21.822144900Z"
    }
   }
  },
  {
   "cell_type": "code",
   "execution_count": 85,
   "outputs": [],
   "source": [],
   "metadata": {
    "collapsed": false,
    "ExecuteTime": {
     "end_time": "2023-06-11T13:02:23.252748Z",
     "start_time": "2023-06-11T13:02:23.179623700Z"
    }
   }
  },
  {
   "cell_type": "code",
   "execution_count": 86,
   "outputs": [],
   "source": [
    "x_train = x_train.drop(['current_contract_stage', 'execution_period_start'], axis=1)\n",
    "y_train = y_train.drop(['execution_period_start'], axis=1)\n",
    "x_test = x_test.drop(['current_contract_stage', 'execution_period_start'], axis=1)\n",
    "y_test = y_test.drop(['execution_period_start'], axis=1)"
   ],
   "metadata": {
    "collapsed": false,
    "ExecuteTime": {
     "end_time": "2023-06-11T13:02:23.983302700Z",
     "start_time": "2023-06-11T13:02:23.935352900Z"
    }
   }
  },
  {
   "cell_type": "code",
   "execution_count": 87,
   "outputs": [
    {
     "data": {
      "text/plain": "0"
     },
     "execution_count": 87,
     "metadata": {},
     "output_type": "execute_result"
    }
   ],
   "source": [
    "del x_train_ec, x_train_et, y_train_ec, y_train_et, x_ec, x_et, y_ec, y_et\n",
    "gc.collect()"
   ],
   "metadata": {
    "collapsed": false,
    "ExecuteTime": {
     "end_time": "2023-06-11T13:02:25.171235300Z",
     "start_time": "2023-06-11T13:02:25.015194Z"
    }
   }
  },
  {
   "cell_type": "code",
   "execution_count": 88,
   "outputs": [
    {
     "name": "stdout",
     "output_type": "stream",
     "text": [
      "EC 601\n",
      "ET 601\n"
     ]
    }
   ],
   "source": [
    "print(\"EC\", len(y_test[y_test['current_contract_stage']=='EC']))\n",
    "print(\"ET\", len(y_test[y_test['current_contract_stage']=='ET']))"
   ],
   "metadata": {
    "collapsed": false,
    "ExecuteTime": {
     "end_time": "2023-06-11T13:02:26.593220100Z",
     "start_time": "2023-06-11T13:02:26.569230300Z"
    }
   }
  },
  {
   "cell_type": "code",
   "execution_count": 89,
   "outputs": [
    {
     "name": "stdout",
     "output_type": "stream",
     "text": [
      "EC 2406\n",
      "ET 2406\n"
     ]
    }
   ],
   "source": [
    "print(\"EC\", len(y_train[y_train['current_contract_stage']=='EC']))\n",
    "print(\"ET\", len(y_train[y_train['current_contract_stage']=='ET']))"
   ],
   "metadata": {
    "collapsed": false,
    "ExecuteTime": {
     "end_time": "2023-06-11T13:02:27.388743500Z",
     "start_time": "2023-06-11T13:02:27.329638800Z"
    }
   }
  },
  {
   "cell_type": "code",
   "metadata": {
    "colab": {
     "base_uri": "https://localhost:8080/",
     "height": 449
    },
    "id": "inKhQCS6u8XF",
    "outputId": "36ad9a35-7ee6-419a-8261-d91fc1dba14d",
    "ExecuteTime": {
     "end_time": "2023-06-11T13:02:40.007682900Z",
     "start_time": "2023-06-11T13:02:28.273470900Z"
    }
   },
   "source": [
    "cat_features = ['customer_legal_form', 'product_code', 'supplier_legal_form']\n",
    "model_catboost = CatBoostClassifier(\n",
    "    n_estimators = 50,\n",
    "    learning_rate = 0.1,\n",
    "    max_depth = 5,\n",
    "    task_type=\"GPU\",\n",
    "    devices='0:1',\n",
    ").fit(x_train, y_train, cat_features,\n",
    "      eval_set=(x_test, y_test),\n",
    "             use_best_model=True,\n",
    "             verbose=False)\n",
    "y_pred = model_catboost.predict(x_test)\n",
    "print(classification_report(y_test, y_pred, target_names=['EC', 'ET']))\n",
    "\n",
    "cm = confusion_matrix(y_test, y_pred, labels=model_catboost.classes_)\n",
    "disp = ConfusionMatrixDisplay(confusion_matrix=cm, display_labels=model_catboost.classes_)\n",
    "disp.plot()"
   ],
   "execution_count": 90,
   "outputs": [
    {
     "name": "stdout",
     "output_type": "stream",
     "text": [
      "              precision    recall  f1-score   support\n",
      "\n",
      "          EC       0.57      0.75      0.65       601\n",
      "          ET       0.64      0.45      0.52       601\n",
      "\n",
      "    accuracy                           0.60      1202\n",
      "   macro avg       0.61      0.60      0.59      1202\n",
      "weighted avg       0.61      0.60      0.59      1202\n",
      "\n"
     ]
    },
    {
     "data": {
      "text/plain": "<sklearn.metrics._plot.confusion_matrix.ConfusionMatrixDisplay at 0x22f7dbd9450>"
     },
     "execution_count": 90,
     "metadata": {},
     "output_type": "execute_result"
    },
    {
     "data": {
      "text/plain": "<Figure size 640x480 with 2 Axes>",
      "image/png": "[encoded data removed]"
     },
     "metadata": {},
     "output_type": "display_data"
    }
   ]
  },
  {
   "cell_type": "code",
   "metadata": {
    "colab": {
     "base_uri": "https://localhost:8080/"
    },
    "id": "FrygJD_pRkqJ",
    "outputId": "4e1de98a-6e82-4669-a90d-ddaf736341f9",
    "ExecuteTime": {
     "end_time": "2023-06-11T13:04:08.865790500Z",
     "start_time": "2023-06-11T13:04:08.761664400Z"
    }
   },
   "source": [
    "#значимость признаков для леса\n",
    "importances = model_catboost.get_feature_importance()\n",
    "indices = np.argsort(importances)[::-1]\n",
    "col = x_train.columns\n",
    "ar_f=[]\n",
    "for f, idx in enumerate(indices):\n",
    "    ar_f.append([round(importances[idx],4), col[idx]])\n",
    "print(\"Значимость признака:\")\n",
    "ar_f.sort(reverse=True)\n",
    "ar_f"
   ],
   "execution_count": 92,
   "outputs": [
    {
     "name": "stdout",
     "output_type": "stream",
     "text": [
      "Значимость признака:\n"
     ]
    },
    {
     "data": {
      "text/plain": "[[81.0116, 'time'],\n [6.2846, 'product_code'],\n [4.6574, 'price'],\n [4.4417, 'customer_legal_form'],\n [3.6047, 'supplier_legal_form']]"
     },
     "execution_count": 92,
     "metadata": {},
     "output_type": "execute_result"
    }
   ]
  },
  {
   "cell_type": "code",
   "execution_count": 96,
   "outputs": [],
   "source": [
    "model_catboost.save_model(os.path.relpath(\"resources/catboost\"))"
   ],
   "metadata": {
    "collapsed": false,
    "ExecuteTime": {
     "end_time": "2023-06-11T13:07:06.688363200Z",
     "start_time": "2023-06-11T13:07:06.618943200Z"
    }
   }
  },
  {
   "cell_type": "markdown",
   "source": [
    "История исполнителя"
   ],
   "metadata": {
    "collapsed": false
   }
  },
  {
   "cell_type": "code",
   "execution_count": 94,
   "outputs": [
    {
     "data": {
      "text/plain": "                id              reg_num                   publish_date  \\\n10822842  27682302   148300021111000023  2016-05-18T10:28:58.197+03:00   \n10574775  26192470   348300110811000001  2016-02-16T11:11:34.220+03:00   \n10515254   1430344   148300025311000004  2017-08-04T17:45:49.236+03:00   \n5598402   36113119   173300003512000002  2019-03-20T10:48:10.416+03:00   \n4174761    7488372   327300009911000001  2016-02-17T11:31:41.521+03:00   \n...            ...                  ...                            ...   \n13107244  63075086  3424500105520000005  2021-01-26T14:28:52.063+07:00   \n420777    62870668  3312010252120000027  2021-01-20T16:30:21.889+03:00   \n14716077  62776870  3190112923420000075  2021-01-19T11:19:14.402+07:00   \n12751051  62529379  3032333944020000147  2021-01-13T09:55:55.164+08:00   \n16336178  62080234  3870100384720000002  2021-01-20T09:41:14.932+12:00   \n\n          customer_inn customer_legal_form       price execution_period_start  \\\n10822842    5048051080               75404    44225.56             2010-12-31   \n10574775    5073008226               75401   119600.00             2011-01-01   \n10515254    5010010751               75404   120000.00             2011-03-31   \n5598402     7714070430               75404  1860000.00             2011-05-05   \n4174761     3201003960               75403   204640.00             2011-06-01   \n...                ...                 ...         ...                    ...   \n13107244    4245001055               75403    47756.80             2020-12-08   \n420777      3120102521               75404   139000.00             2020-12-15   \n14716077    1901129234               75404   178274.58             2020-12-16   \n12751051     323339440               75404   937491.84             2020-12-25   \n16336178    8701003847               75403   281373.00             2021-01-19   \n\n         execution_period_end  \\\n10822842           2011-12-31   \n10574775           2011-12-31   \n10515254           2011-06-01   \n5598402            2012-04-01   \n4174761            2011-06-03   \n...                       ...   \n13107244           2021-01-29   \n420777             2020-12-31   \n14716077           2020-12-31   \n12751051           2021-12-31   \n16336178           2021-03-31   \n\n                                               product_code  \\\n10822842  <Element '{http://zakupki.gov.ru/oos/types/1}c...   \n10574775  <Element '{http://zakupki.gov.ru/oos/types/1}c...   \n10515254  <Element '{http://zakupki.gov.ru/oos/types/1}c...   \n5598402   <Element '{http://zakupki.gov.ru/oos/types/1}c...   \n4174761   <Element '{http://zakupki.gov.ru/oos/types/1}c...   \n...                                                     ...   \n13107244  <Element '{http://zakupki.gov.ru/oos/types/1}c...   \n420777    <Element '{http://zakupki.gov.ru/oos/types/1}c...   \n14716077  <Element '{http://zakupki.gov.ru/oos/types/1}c...   \n12751051  <Element '{http://zakupki.gov.ru/oos/types/1}c...   \n16336178  <Element '{http://zakupki.gov.ru/oos/types/1}c...   \n\n         supplier_legal_form supplier_inn current_contract_stage  time  \n10822842               12200   5000000970                     EC   366  \n10574775               12247   7736520080                     EC   365  \n10515254               12300   5010036767                     EC    63  \n5598402                12200   7730055213                     EC   333  \n4174761                50000   5113000095                     EC     3  \n...                      ...          ...                    ...   ...  \n13107244               12300   7017429425                     EC    53  \n420777                 12300   3123314130                     EC    17  \n14716077               12300   1901064509                     ET    16  \n12751051               65243    326540932                     EC   372  \n16336178               65242   8700000466                     EC    72  \n\n[15867 rows x 13 columns]",
      "text/html": "<div>\n<style scoped>\n    .dataframe tbody tr th:only-of-type {\n        vertical-align: middle;\n    }\n\n    .dataframe tbody tr th {\n        vertical-align: top;\n    }\n\n    .dataframe thead th {\n        text-align: right;\n    }\n</style>\n<table border=\"1\" class=\"dataframe\">\n  <thead>\n    <tr style=\"text-align: right;\">\n      <th></th>\n      <th>id</th>\n      <th>reg_num</th>\n      <th>publish_date</th>\n      <th>customer_inn</th>\n      <th>customer_legal_form</th>\n      <th>price</th>\n      <th>execution_period_start</th>\n      <th>execution_period_end</th>\n      <th>product_code</th>\n      <th>supplier_legal_form</th>\n      <th>supplier_inn</th>\n      <th>current_contract_stage</th>\n      <th>time</th>\n    </tr>\n  </thead>\n  <tbody>\n    <tr>\n      <th>10822842</th>\n      <td>27682302</td>\n      <td>148300021111000023</td>\n      <td>2016-05-18T10:28:58.197+03:00</td>\n      <td>5048051080</td>\n      <td>75404</td>\n      <td>44225.56</td>\n      <td>2010-12-31</td>\n      <td>2011-12-31</td>\n      <td>&lt;Element '{http://zakupki.gov.ru/oos/types/1}c...</td>\n      <td>12200</td>\n      <td>5000000970</td>\n      <td>EC</td>\n      <td>366</td>\n    </tr>\n    <tr>\n      <th>10574775</th>\n      <td>26192470</td>\n      <td>348300110811000001</td>\n      <td>2016-02-16T11:11:34.220+03:00</td>\n      <td>5073008226</td>\n      <td>75401</td>\n      <td>119600.00</td>\n      <td>2011-01-01</td>\n      <td>2011-12-31</td>\n      <td>&lt;Element '{http://zakupki.gov.ru/oos/types/1}c...</td>\n      <td>12247</td>\n      <td>7736520080</td>\n      <td>EC</td>\n      <td>365</td>\n    </tr>\n    <tr>\n      <th>10515254</th>\n      <td>1430344</td>\n      <td>148300025311000004</td>\n      <td>2017-08-04T17:45:49.236+03:00</td>\n      <td>5010010751</td>\n      <td>75404</td>\n      <td>120000.00</td>\n      <td>2011-03-31</td>\n      <td>2011-06-01</td>\n      <td>&lt;Element '{http://zakupki.gov.ru/oos/types/1}c...</td>\n      <td>12300</td>\n      <td>5010036767</td>\n      <td>EC</td>\n      <td>63</td>\n    </tr>\n    <tr>\n      <th>5598402</th>\n      <td>36113119</td>\n      <td>173300003512000002</td>\n      <td>2019-03-20T10:48:10.416+03:00</td>\n      <td>7714070430</td>\n      <td>75404</td>\n      <td>1860000.00</td>\n      <td>2011-05-05</td>\n      <td>2012-04-01</td>\n      <td>&lt;Element '{http://zakupki.gov.ru/oos/types/1}c...</td>\n      <td>12200</td>\n      <td>7730055213</td>\n      <td>EC</td>\n      <td>333</td>\n    </tr>\n    <tr>\n      <th>4174761</th>\n      <td>7488372</td>\n      <td>327300009911000001</td>\n      <td>2016-02-17T11:31:41.521+03:00</td>\n      <td>3201003960</td>\n      <td>75403</td>\n      <td>204640.00</td>\n      <td>2011-06-01</td>\n      <td>2011-06-03</td>\n      <td>&lt;Element '{http://zakupki.gov.ru/oos/types/1}c...</td>\n      <td>50000</td>\n      <td>5113000095</td>\n      <td>EC</td>\n      <td>3</td>\n    </tr>\n    <tr>\n      <th>...</th>\n      <td>...</td>\n      <td>...</td>\n      <td>...</td>\n      <td>...</td>\n      <td>...</td>\n      <td>...</td>\n      <td>...</td>\n      <td>...</td>\n      <td>...</td>\n      <td>...</td>\n      <td>...</td>\n      <td>...</td>\n      <td>...</td>\n    </tr>\n    <tr>\n      <th>13107244</th>\n      <td>63075086</td>\n      <td>3424500105520000005</td>\n      <td>2021-01-26T14:28:52.063+07:00</td>\n      <td>4245001055</td>\n      <td>75403</td>\n      <td>47756.80</td>\n      <td>2020-12-08</td>\n      <td>2021-01-29</td>\n      <td>&lt;Element '{http://zakupki.gov.ru/oos/types/1}c...</td>\n      <td>12300</td>\n      <td>7017429425</td>\n      <td>EC</td>\n      <td>53</td>\n    </tr>\n    <tr>\n      <th>420777</th>\n      <td>62870668</td>\n      <td>3312010252120000027</td>\n      <td>2021-01-20T16:30:21.889+03:00</td>\n      <td>3120102521</td>\n      <td>75404</td>\n      <td>139000.00</td>\n      <td>2020-12-15</td>\n      <td>2020-12-31</td>\n      <td>&lt;Element '{http://zakupki.gov.ru/oos/types/1}c...</td>\n      <td>12300</td>\n      <td>3123314130</td>\n      <td>EC</td>\n      <td>17</td>\n    </tr>\n    <tr>\n      <th>14716077</th>\n      <td>62776870</td>\n      <td>3190112923420000075</td>\n      <td>2021-01-19T11:19:14.402+07:00</td>\n      <td>1901129234</td>\n      <td>75404</td>\n      <td>178274.58</td>\n      <td>2020-12-16</td>\n      <td>2020-12-31</td>\n      <td>&lt;Element '{http://zakupki.gov.ru/oos/types/1}c...</td>\n      <td>12300</td>\n      <td>1901064509</td>\n      <td>ET</td>\n      <td>16</td>\n    </tr>\n    <tr>\n      <th>12751051</th>\n      <td>62529379</td>\n      <td>3032333944020000147</td>\n      <td>2021-01-13T09:55:55.164+08:00</td>\n      <td>323339440</td>\n      <td>75404</td>\n      <td>937491.84</td>\n      <td>2020-12-25</td>\n      <td>2021-12-31</td>\n      <td>&lt;Element '{http://zakupki.gov.ru/oos/types/1}c...</td>\n      <td>65243</td>\n      <td>326540932</td>\n      <td>EC</td>\n      <td>372</td>\n    </tr>\n    <tr>\n      <th>16336178</th>\n      <td>62080234</td>\n      <td>3870100384720000002</td>\n      <td>2021-01-20T09:41:14.932+12:00</td>\n      <td>8701003847</td>\n      <td>75403</td>\n      <td>281373.00</td>\n      <td>2021-01-19</td>\n      <td>2021-03-31</td>\n      <td>&lt;Element '{http://zakupki.gov.ru/oos/types/1}c...</td>\n      <td>65242</td>\n      <td>8700000466</td>\n      <td>EC</td>\n      <td>72</td>\n    </tr>\n  </tbody>\n</table>\n<p>15867 rows × 13 columns</p>\n</div>"
     },
     "execution_count": 94,
     "metadata": {},
     "output_type": "execute_result"
    }
   ],
   "source": [
    "data"
   ],
   "metadata": {
    "collapsed": false,
    "ExecuteTime": {
     "end_time": "2023-06-11T13:04:29.781545700Z",
     "start_time": "2023-06-11T13:04:29.666204500Z"
    }
   }
  },
  {
   "cell_type": "code",
   "execution_count": 155,
   "outputs": [],
   "source": [
    "supp = data[(data['supplier_inn'] == 726016530)]"
   ],
   "metadata": {
    "collapsed": false,
    "ExecuteTime": {
     "end_time": "2023-06-11T03:13:17.344516900Z",
     "start_time": "2023-06-11T03:13:17.322490100Z"
    }
   }
  },
  {
   "cell_type": "code",
   "execution_count": 156,
   "outputs": [
    {
     "name": "stdout",
     "output_type": "stream",
     "text": [
      "Хорошо проведенные: 19\n"
     ]
    }
   ],
   "source": [
    "print(\"Хорошо проведенные:\",  len(supp[(supp['current_contract_stage'] == 'EC')]))"
   ],
   "metadata": {
    "collapsed": false,
    "ExecuteTime": {
     "end_time": "2023-06-11T03:14:36.574480900Z",
     "start_time": "2023-06-11T03:14:36.525286600Z"
    }
   }
  },
  {
   "cell_type": "code",
   "execution_count": 157,
   "outputs": [
    {
     "name": "stdout",
     "output_type": "stream",
     "text": [
      "Так себе проведенные: 4\n"
     ]
    }
   ],
   "source": [
    "print(\"Так себе проведенные:\",  len(supp[(supp['current_contract_stage'] == 'ET')]))"
   ],
   "metadata": {
    "collapsed": false,
    "ExecuteTime": {
     "end_time": "2023-06-11T03:14:59.550275600Z",
     "start_time": "2023-06-11T03:14:59.532244800Z"
    }
   }
  },
  {
   "cell_type": "code",
   "execution_count": 158,
   "outputs": [
    {
     "data": {
      "text/plain": "                id              reg_num                   publish_date  \\\n11211860  31887551  2071103152816000003  2017-01-23T18:29:55.688+03:00   \n11309210  37858805  2072106342316000022  2017-12-05T16:10:48.072+03:00   \n11281166  39681638  3071104297817000004  2018-01-30T18:03:52.166+03:00   \n11228722  41900166  3071104333017000021  2018-05-14T11:52:08.186+03:00   \n11325935  41900166  3071104333017000021  2018-05-14T11:52:08.186+03:00   \n11260746  40956869  1071102644717000020  2018-04-03T16:20:43.693+03:00   \n11295140  39568890  2072501475517000012  2018-01-25T12:15:10.753+03:00   \n11229892  46337997  3071104352318000005  2018-12-28T20:47:47.819+03:00   \n11228991  46337997  3071104352318000005  2018-12-28T20:47:47.819+03:00   \n11269693  50244719  2071104232918000003  2019-06-20T19:02:40.100+03:00   \n11291950  46375182  3071104186118000002  2019-01-14T12:52:00.007+03:00   \n11292078  46374169  3072105421018000004  2019-01-14T12:51:35.095+03:00   \n11292547  46761934  3071104357018000013  2019-01-14T13:21:43.071+03:00   \n11284263  48703241  2072500345718000004  2019-04-09T18:02:11.859+03:00   \n11229613  46371662  3071105235918000005  2018-12-29T15:10:39.641+03:00   \n11230508  46371662  3071105235918000005  2018-12-29T15:10:39.641+03:00   \n11292187  46531924  3071103529718000014  2019-01-14T13:09:05.688+03:00   \n11280665  50085270  3071104333018000015  2019-05-30T10:08:53.420+03:00   \n11254144  54975551  2071103348319000003  2020-02-07T16:59:48.719+03:00   \n11253265  55479131  3071104186119000010  2020-02-03T12:50:09.049+03:00   \n11253954  55670661  3072105421019000016  2020-02-07T13:01:11.465+03:00   \n11259476  60417199  3072105421020000024  2020-10-21T15:58:19.855+03:00   \n11322441  62699617  2072500547920000048  2021-01-18T16:23:00.471+03:00   \n\n          customer_inn customer_legal_form       price execution_period_start  \\\n11211860     711031528               75204   143094.13             2016-11-30   \n11309210     725009184               75204   133934.73             2016-12-14   \n11281166     711042978               75404   783638.63             2017-01-01   \n11228722     711043330               75404  3928955.36             2017-02-13   \n11325935     711043330               75404  3928955.36             2017-02-13   \n11260746     711026447               30002   522737.48             2017-05-29   \n11295140     725014755               75204    68718.39             2017-09-28   \n11229892     711043523               75404  1714771.30             2018-01-01   \n11228991     711043523               75404  1714771.30             2018-01-01   \n11269693     711042329               75203   124644.59             2018-01-01   \n11291950     711041861               75404   475019.45             2018-01-01   \n11292078     721054210               75404  2107467.13             2018-01-01   \n11292547     711043570               75404  1688425.70             2018-01-26   \n11284263     725003457               75203   368577.30             2018-01-29   \n11229613     711052359               75404   796854.14             2018-01-29   \n11230508     711052359               75404   796854.14             2018-01-29   \n11292187     711035297               75404  1682042.00             2018-01-29   \n11280665     711043330               75404  2697549.81             2018-01-31   \n11254144     711033483               75203  1496826.93             2019-01-31   \n11253265     711041861               75404   485132.73             2019-02-13   \n11253954     721054210               75404  2291810.09             2019-02-13   \n11259476     721054210               75404  1773141.34             2020-02-06   \n11322441     725005479               75203   112798.41             2020-12-21   \n\n         execution_period_end  \\\n11211860           2017-12-31   \n11309210           2017-12-31   \n11281166           2017-12-31   \n11228722           2017-12-31   \n11325935           2017-12-31   \n11260746           2017-12-31   \n11295140           2018-12-31   \n11229892           2018-12-31   \n11228991           2018-12-31   \n11269693           2019-12-31   \n11291950           2018-12-31   \n11292078           2018-12-31   \n11292547           2018-12-31   \n11284263           2019-12-31   \n11229613           2018-12-31   \n11230508           2018-12-31   \n11292187           2018-12-31   \n11280665           2018-12-31   \n11254144           2019-12-31   \n11253265           2019-12-31   \n11253954           2019-12-31   \n11259476           2020-09-30   \n11322441           2020-12-31   \n\n                                               product_code  \\\n11211860  <Element '{http://zakupki.gov.ru/oos/types/1}c...   \n11309210  <Element '{http://zakupki.gov.ru/oos/types/1}c...   \n11281166  <Element '{http://zakupki.gov.ru/oos/types/1}c...   \n11228722  <Element '{http://zakupki.gov.ru/oos/types/1}c...   \n11325935  <Element '{http://zakupki.gov.ru/oos/types/1}c...   \n11260746  <Element '{http://zakupki.gov.ru/oos/types/1}c...   \n11295140  <Element '{http://zakupki.gov.ru/oos/types/1}c...   \n11229892  <Element '{http://zakupki.gov.ru/oos/types/1}c...   \n11228991  <Element '{http://zakupki.gov.ru/oos/types/1}c...   \n11269693  <Element '{http://zakupki.gov.ru/oos/types/1}c...   \n11291950  <Element '{http://zakupki.gov.ru/oos/types/1}c...   \n11292078  <Element '{http://zakupki.gov.ru/oos/types/1}c...   \n11292547  <Element '{http://zakupki.gov.ru/oos/types/1}c...   \n11284263  <Element '{http://zakupki.gov.ru/oos/types/1}c...   \n11229613  <Element '{http://zakupki.gov.ru/oos/types/1}c...   \n11230508  <Element '{http://zakupki.gov.ru/oos/types/1}c...   \n11292187  <Element '{http://zakupki.gov.ru/oos/types/1}c...   \n11280665  <Element '{http://zakupki.gov.ru/oos/types/1}c...   \n11254144  <Element '{http://zakupki.gov.ru/oos/types/1}c...   \n11253265  <Element '{http://zakupki.gov.ru/oos/types/1}c...   \n11253954  <Element '{http://zakupki.gov.ru/oos/types/1}c...   \n11259476  <Element '{http://zakupki.gov.ru/oos/types/1}c...   \n11322441  <Element '{http://zakupki.gov.ru/oos/types/1}c...   \n\n         supplier_legal_form supplier_inn current_contract_stage  time  \n11211860               65243    726016530                     EC   397  \n11309210               65243    726016530                     ET   383  \n11281166               65243    726016530                     EC   365  \n11228722               65243    726016530                     EC   322  \n11325935               65243    726016530                     EC   322  \n11260746               65243    726016530                     EC   217  \n11295140               65243    726016530                     ET   460  \n11229892               65243    726016530                     EC   365  \n11228991               65243    726016530                     EC   365  \n11269693               65243    726016530                     EC   730  \n11291950               65243    726016530                     EC   365  \n11292078               65243    726016530                     EC   365  \n11292547               65243    726016530                     EC   340  \n11284263               65243    726016530                     EC   702  \n11229613               65243    726016530                     EC   337  \n11230508               65243    726016530                     EC   337  \n11292187               65243    726016530                     EC   337  \n11280665               65243    726016530                     EC   335  \n11254144               65243    726016530                     ET   335  \n11253265               65243    726016530                     EC   322  \n11253954               65243    726016530                     EC   322  \n11259476               65243    726016530                     ET   238  \n11322441               65243    726016530                     EC    11  ",
      "text/html": "<div>\n<style scoped>\n    .dataframe tbody tr th:only-of-type {\n        vertical-align: middle;\n    }\n\n    .dataframe tbody tr th {\n        vertical-align: top;\n    }\n\n    .dataframe thead th {\n        text-align: right;\n    }\n</style>\n<table border=\"1\" class=\"dataframe\">\n  <thead>\n    <tr style=\"text-align: right;\">\n      <th></th>\n      <th>id</th>\n      <th>reg_num</th>\n      <th>publish_date</th>\n      <th>customer_inn</th>\n      <th>customer_legal_form</th>\n      <th>price</th>\n      <th>execution_period_start</th>\n      <th>execution_period_end</th>\n      <th>product_code</th>\n      <th>supplier_legal_form</th>\n      <th>supplier_inn</th>\n      <th>current_contract_stage</th>\n      <th>time</th>\n    </tr>\n  </thead>\n  <tbody>\n    <tr>\n      <th>11211860</th>\n      <td>31887551</td>\n      <td>2071103152816000003</td>\n      <td>2017-01-23T18:29:55.688+03:00</td>\n      <td>711031528</td>\n      <td>75204</td>\n      <td>143094.13</td>\n      <td>2016-11-30</td>\n      <td>2017-12-31</td>\n      <td>&lt;Element '{http://zakupki.gov.ru/oos/types/1}c...</td>\n      <td>65243</td>\n      <td>726016530</td>\n      <td>EC</td>\n      <td>397</td>\n    </tr>\n    <tr>\n      <th>11309210</th>\n      <td>37858805</td>\n      <td>2072106342316000022</td>\n      <td>2017-12-05T16:10:48.072+03:00</td>\n      <td>725009184</td>\n      <td>75204</td>\n      <td>133934.73</td>\n      <td>2016-12-14</td>\n      <td>2017-12-31</td>\n      <td>&lt;Element '{http://zakupki.gov.ru/oos/types/1}c...</td>\n      <td>65243</td>\n      <td>726016530</td>\n      <td>ET</td>\n      <td>383</td>\n    </tr>\n    <tr>\n      <th>11281166</th>\n      <td>39681638</td>\n      <td>3071104297817000004</td>\n      <td>2018-01-30T18:03:52.166+03:00</td>\n      <td>711042978</td>\n      <td>75404</td>\n      <td>783638.63</td>\n      <td>2017-01-01</td>\n      <td>2017-12-31</td>\n      <td>&lt;Element '{http://zakupki.gov.ru/oos/types/1}c...</td>\n      <td>65243</td>\n      <td>726016530</td>\n      <td>EC</td>\n      <td>365</td>\n    </tr>\n    <tr>\n      <th>11228722</th>\n      <td>41900166</td>\n      <td>3071104333017000021</td>\n      <td>2018-05-14T11:52:08.186+03:00</td>\n      <td>711043330</td>\n      <td>75404</td>\n      <td>3928955.36</td>\n      <td>2017-02-13</td>\n      <td>2017-12-31</td>\n      <td>&lt;Element '{http://zakupki.gov.ru/oos/types/1}c...</td>\n      <td>65243</td>\n      <td>726016530</td>\n      <td>EC</td>\n      <td>322</td>\n    </tr>\n    <tr>\n      <th>11325935</th>\n      <td>41900166</td>\n      <td>3071104333017000021</td>\n      <td>2018-05-14T11:52:08.186+03:00</td>\n      <td>711043330</td>\n      <td>75404</td>\n      <td>3928955.36</td>\n      <td>2017-02-13</td>\n      <td>2017-12-31</td>\n      <td>&lt;Element '{http://zakupki.gov.ru/oos/types/1}c...</td>\n      <td>65243</td>\n      <td>726016530</td>\n      <td>EC</td>\n      <td>322</td>\n    </tr>\n    <tr>\n      <th>11260746</th>\n      <td>40956869</td>\n      <td>1071102644717000020</td>\n      <td>2018-04-03T16:20:43.693+03:00</td>\n      <td>711026447</td>\n      <td>30002</td>\n      <td>522737.48</td>\n      <td>2017-05-29</td>\n      <td>2017-12-31</td>\n      <td>&lt;Element '{http://zakupki.gov.ru/oos/types/1}c...</td>\n      <td>65243</td>\n      <td>726016530</td>\n      <td>EC</td>\n      <td>217</td>\n    </tr>\n    <tr>\n      <th>11295140</th>\n      <td>39568890</td>\n      <td>2072501475517000012</td>\n      <td>2018-01-25T12:15:10.753+03:00</td>\n      <td>725014755</td>\n      <td>75204</td>\n      <td>68718.39</td>\n      <td>2017-09-28</td>\n      <td>2018-12-31</td>\n      <td>&lt;Element '{http://zakupki.gov.ru/oos/types/1}c...</td>\n      <td>65243</td>\n      <td>726016530</td>\n      <td>ET</td>\n      <td>460</td>\n    </tr>\n    <tr>\n      <th>11229892</th>\n      <td>46337997</td>\n      <td>3071104352318000005</td>\n      <td>2018-12-28T20:47:47.819+03:00</td>\n      <td>711043523</td>\n      <td>75404</td>\n      <td>1714771.30</td>\n      <td>2018-01-01</td>\n      <td>2018-12-31</td>\n      <td>&lt;Element '{http://zakupki.gov.ru/oos/types/1}c...</td>\n      <td>65243</td>\n      <td>726016530</td>\n      <td>EC</td>\n      <td>365</td>\n    </tr>\n    <tr>\n      <th>11228991</th>\n      <td>46337997</td>\n      <td>3071104352318000005</td>\n      <td>2018-12-28T20:47:47.819+03:00</td>\n      <td>711043523</td>\n      <td>75404</td>\n      <td>1714771.30</td>\n      <td>2018-01-01</td>\n      <td>2018-12-31</td>\n      <td>&lt;Element '{http://zakupki.gov.ru/oos/types/1}c...</td>\n      <td>65243</td>\n      <td>726016530</td>\n      <td>EC</td>\n      <td>365</td>\n    </tr>\n    <tr>\n      <th>11269693</th>\n      <td>50244719</td>\n      <td>2071104232918000003</td>\n      <td>2019-06-20T19:02:40.100+03:00</td>\n      <td>711042329</td>\n      <td>75203</td>\n      <td>124644.59</td>\n      <td>2018-01-01</td>\n      <td>2019-12-31</td>\n      <td>&lt;Element '{http://zakupki.gov.ru/oos/types/1}c...</td>\n      <td>65243</td>\n      <td>726016530</td>\n      <td>EC</td>\n      <td>730</td>\n    </tr>\n    <tr>\n      <th>11291950</th>\n      <td>46375182</td>\n      <td>3071104186118000002</td>\n      <td>2019-01-14T12:52:00.007+03:00</td>\n      <td>711041861</td>\n      <td>75404</td>\n      <td>475019.45</td>\n      <td>2018-01-01</td>\n      <td>2018-12-31</td>\n      <td>&lt;Element '{http://zakupki.gov.ru/oos/types/1}c...</td>\n      <td>65243</td>\n      <td>726016530</td>\n      <td>EC</td>\n      <td>365</td>\n    </tr>\n    <tr>\n      <th>11292078</th>\n      <td>46374169</td>\n      <td>3072105421018000004</td>\n      <td>2019-01-14T12:51:35.095+03:00</td>\n      <td>721054210</td>\n      <td>75404</td>\n      <td>2107467.13</td>\n      <td>2018-01-01</td>\n      <td>2018-12-31</td>\n      <td>&lt;Element '{http://zakupki.gov.ru/oos/types/1}c...</td>\n      <td>65243</td>\n      <td>726016530</td>\n      <td>EC</td>\n      <td>365</td>\n    </tr>\n    <tr>\n      <th>11292547</th>\n      <td>46761934</td>\n      <td>3071104357018000013</td>\n      <td>2019-01-14T13:21:43.071+03:00</td>\n      <td>711043570</td>\n      <td>75404</td>\n      <td>1688425.70</td>\n      <td>2018-01-26</td>\n      <td>2018-12-31</td>\n      <td>&lt;Element '{http://zakupki.gov.ru/oos/types/1}c...</td>\n      <td>65243</td>\n      <td>726016530</td>\n      <td>EC</td>\n      <td>340</td>\n    </tr>\n    <tr>\n      <th>11284263</th>\n      <td>48703241</td>\n      <td>2072500345718000004</td>\n      <td>2019-04-09T18:02:11.859+03:00</td>\n      <td>725003457</td>\n      <td>75203</td>\n      <td>368577.30</td>\n      <td>2018-01-29</td>\n      <td>2019-12-31</td>\n      <td>&lt;Element '{http://zakupki.gov.ru/oos/types/1}c...</td>\n      <td>65243</td>\n      <td>726016530</td>\n      <td>EC</td>\n      <td>702</td>\n    </tr>\n    <tr>\n      <th>11229613</th>\n      <td>46371662</td>\n      <td>3071105235918000005</td>\n      <td>2018-12-29T15:10:39.641+03:00</td>\n      <td>711052359</td>\n      <td>75404</td>\n      <td>796854.14</td>\n      <td>2018-01-29</td>\n      <td>2018-12-31</td>\n      <td>&lt;Element '{http://zakupki.gov.ru/oos/types/1}c...</td>\n      <td>65243</td>\n      <td>726016530</td>\n      <td>EC</td>\n      <td>337</td>\n    </tr>\n    <tr>\n      <th>11230508</th>\n      <td>46371662</td>\n      <td>3071105235918000005</td>\n      <td>2018-12-29T15:10:39.641+03:00</td>\n      <td>711052359</td>\n      <td>75404</td>\n      <td>796854.14</td>\n      <td>2018-01-29</td>\n      <td>2018-12-31</td>\n      <td>&lt;Element '{http://zakupki.gov.ru/oos/types/1}c...</td>\n      <td>65243</td>\n      <td>726016530</td>\n      <td>EC</td>\n      <td>337</td>\n    </tr>\n    <tr>\n      <th>11292187</th>\n      <td>46531924</td>\n      <td>3071103529718000014</td>\n      <td>2019-01-14T13:09:05.688+03:00</td>\n      <td>711035297</td>\n      <td>75404</td>\n      <td>1682042.00</td>\n      <td>2018-01-29</td>\n      <td>2018-12-31</td>\n      <td>&lt;Element '{http://zakupki.gov.ru/oos/types/1}c...</td>\n      <td>65243</td>\n      <td>726016530</td>\n      <td>EC</td>\n      <td>337</td>\n    </tr>\n    <tr>\n      <th>11280665</th>\n      <td>50085270</td>\n      <td>3071104333018000015</td>\n      <td>2019-05-30T10:08:53.420+03:00</td>\n      <td>711043330</td>\n      <td>75404</td>\n      <td>2697549.81</td>\n      <td>2018-01-31</td>\n      <td>2018-12-31</td>\n      <td>&lt;Element '{http://zakupki.gov.ru/oos/types/1}c...</td>\n      <td>65243</td>\n      <td>726016530</td>\n      <td>EC</td>\n      <td>335</td>\n    </tr>\n    <tr>\n      <th>11254144</th>\n      <td>54975551</td>\n      <td>2071103348319000003</td>\n      <td>2020-02-07T16:59:48.719+03:00</td>\n      <td>711033483</td>\n      <td>75203</td>\n      <td>1496826.93</td>\n      <td>2019-01-31</td>\n      <td>2019-12-31</td>\n      <td>&lt;Element '{http://zakupki.gov.ru/oos/types/1}c...</td>\n      <td>65243</td>\n      <td>726016530</td>\n      <td>ET</td>\n      <td>335</td>\n    </tr>\n    <tr>\n      <th>11253265</th>\n      <td>55479131</td>\n      <td>3071104186119000010</td>\n      <td>2020-02-03T12:50:09.049+03:00</td>\n      <td>711041861</td>\n      <td>75404</td>\n      <td>485132.73</td>\n      <td>2019-02-13</td>\n      <td>2019-12-31</td>\n      <td>&lt;Element '{http://zakupki.gov.ru/oos/types/1}c...</td>\n      <td>65243</td>\n      <td>726016530</td>\n      <td>EC</td>\n      <td>322</td>\n    </tr>\n    <tr>\n      <th>11253954</th>\n      <td>55670661</td>\n      <td>3072105421019000016</td>\n      <td>2020-02-07T13:01:11.465+03:00</td>\n      <td>721054210</td>\n      <td>75404</td>\n      <td>2291810.09</td>\n      <td>2019-02-13</td>\n      <td>2019-12-31</td>\n      <td>&lt;Element '{http://zakupki.gov.ru/oos/types/1}c...</td>\n      <td>65243</td>\n      <td>726016530</td>\n      <td>EC</td>\n      <td>322</td>\n    </tr>\n    <tr>\n      <th>11259476</th>\n      <td>60417199</td>\n      <td>3072105421020000024</td>\n      <td>2020-10-21T15:58:19.855+03:00</td>\n      <td>721054210</td>\n      <td>75404</td>\n      <td>1773141.34</td>\n      <td>2020-02-06</td>\n      <td>2020-09-30</td>\n      <td>&lt;Element '{http://zakupki.gov.ru/oos/types/1}c...</td>\n      <td>65243</td>\n      <td>726016530</td>\n      <td>ET</td>\n      <td>238</td>\n    </tr>\n    <tr>\n      <th>11322441</th>\n      <td>62699617</td>\n      <td>2072500547920000048</td>\n      <td>2021-01-18T16:23:00.471+03:00</td>\n      <td>725005479</td>\n      <td>75203</td>\n      <td>112798.41</td>\n      <td>2020-12-21</td>\n      <td>2020-12-31</td>\n      <td>&lt;Element '{http://zakupki.gov.ru/oos/types/1}c...</td>\n      <td>65243</td>\n      <td>726016530</td>\n      <td>EC</td>\n      <td>11</td>\n    </tr>\n  </tbody>\n</table>\n</div>"
     },
     "execution_count": 158,
     "metadata": {},
     "output_type": "execute_result"
    }
   ],
   "source": [
    "supp"
   ],
   "metadata": {
    "collapsed": false,
    "ExecuteTime": {
     "end_time": "2023-06-11T03:20:28.209132700Z",
     "start_time": "2023-06-11T03:20:28.176069100Z"
    }
   }
  },
  {
   "cell_type": "code",
   "execution_count": 95,
   "outputs": [
    {
     "data": {
      "text/plain": "                id              reg_num                   publish_date  \\\n4471485   49217577   101300074013000009  2019-04-22T17:59:56.717+05:00   \n12890281  33617116   339300163413000012  2017-04-14T14:02:20.981+07:00   \n2334185   43660711   113300007314000017  2018-08-14T10:54:16.188+04:00   \n5598201   36218913   173300003514000003  2019-03-20T10:47:20.270+03:00   \n8684859   40735978   172300001914000051  2018-03-19T16:24:34.191+03:00   \n...            ...                  ...                            ...   \n13115102  62200966  3424000680720000010  2020-12-28T15:54:39.692+07:00   \n11829127  62614308  3381901087120000013  2021-01-15T08:29:33.882+08:00   \n10049075  61614844  3504009579120000016  2020-12-28T12:51:46.637+03:00   \n11828822  62652893  3381901087120000014  2021-01-18T08:10:22.099+08:00   \n14716077  62776870  3190112923420000075  2021-01-19T11:19:14.402+07:00   \n\n          customer_inn customer_legal_form      price execution_period_start  \\\n4471485      256016338               75404  147000.00             2013-01-01   \n12890281    4223026610               75404  812608.50             2013-06-20   \n2334185     1835071691               75404   14648.00             2014-04-03   \n5598201     7714070430               75404   94942.00             2014-07-01   \n8684859     7825453050               75404  414630.00             2014-07-03   \n...                ...                 ...        ...                    ...   \n13115102    4240006807               75403  141692.96             2020-11-18   \n11829127    3819010871               75403   46620.00             2020-11-23   \n10049075    5040095791               75403  101569.26             2020-11-24   \n11828822    3819010871               75403  134760.44             2020-11-26   \n14716077    1901129234               75404  178274.58             2020-12-16   \n\n         execution_period_end  \\\n4471485            2016-12-31   \n12890281           2013-12-01   \n2334185            2014-12-01   \n5598201            2014-12-01   \n8684859            2014-12-01   \n...                       ...   \n13115102           2020-12-30   \n11829127           2020-12-31   \n10049075           2020-12-31   \n11828822           2020-12-31   \n14716077           2020-12-31   \n\n                                               product_code  \\\n4471485   <Element '{http://zakupki.gov.ru/oos/types/1}c...   \n12890281  <Element '{http://zakupki.gov.ru/oos/types/1}c...   \n2334185                                        30.02.16.194   \n5598201                                        72.60.10.000   \n8684859   <Element '{http://zakupki.gov.ru/oos/types/1}c...   \n...                                                     ...   \n13115102  <Element '{http://zakupki.gov.ru/oos/types/1}c...   \n11829127  <Element '{http://zakupki.gov.ru/oos/types/1}c...   \n10049075  <Element '{http://zakupki.gov.ru/oos/types/1}c...   \n11828822  <Element '{http://zakupki.gov.ru/oos/types/1}c...   \n14716077  <Element '{http://zakupki.gov.ru/oos/types/1}c...   \n\n         supplier_legal_form supplier_inn current_contract_stage  time  \n4471485                12300    275038496                     ET  1461  \n12890281               12300   4220038945                     ET   165  \n2334185                12300   1835087194                     ET   243  \n5598201                12300   7736199349                     ET   154  \n8684859                12300   7802137274                     ET   152  \n...                      ...          ...                    ...   ...  \n13115102               12300   4205262886                     ET    43  \n11829127               12267   3840001848                     ET    39  \n10049075               12300   7724364407                     ET    38  \n11828822               12267   3840001848                     ET    36  \n14716077               12300   1901064509                     ET    16  \n\n[3007 rows x 13 columns]",
      "text/html": "<div>\n<style scoped>\n    .dataframe tbody tr th:only-of-type {\n        vertical-align: middle;\n    }\n\n    .dataframe tbody tr th {\n        vertical-align: top;\n    }\n\n    .dataframe thead th {\n        text-align: right;\n    }\n</style>\n<table border=\"1\" class=\"dataframe\">\n  <thead>\n    <tr style=\"text-align: right;\">\n      <th></th>\n      <th>id</th>\n      <th>reg_num</th>\n      <th>publish_date</th>\n      <th>customer_inn</th>\n      <th>customer_legal_form</th>\n      <th>price</th>\n      <th>execution_period_start</th>\n      <th>execution_period_end</th>\n      <th>product_code</th>\n      <th>supplier_legal_form</th>\n      <th>supplier_inn</th>\n      <th>current_contract_stage</th>\n      <th>time</th>\n    </tr>\n  </thead>\n  <tbody>\n    <tr>\n      <th>4471485</th>\n      <td>49217577</td>\n      <td>101300074013000009</td>\n      <td>2019-04-22T17:59:56.717+05:00</td>\n      <td>256016338</td>\n      <td>75404</td>\n      <td>147000.00</td>\n      <td>2013-01-01</td>\n      <td>2016-12-31</td>\n      <td>&lt;Element '{http://zakupki.gov.ru/oos/types/1}c...</td>\n      <td>12300</td>\n      <td>275038496</td>\n      <td>ET</td>\n      <td>1461</td>\n    </tr>\n    <tr>\n      <th>12890281</th>\n      <td>33617116</td>\n      <td>339300163413000012</td>\n      <td>2017-04-14T14:02:20.981+07:00</td>\n      <td>4223026610</td>\n      <td>75404</td>\n      <td>812608.50</td>\n      <td>2013-06-20</td>\n      <td>2013-12-01</td>\n      <td>&lt;Element '{http://zakupki.gov.ru/oos/types/1}c...</td>\n      <td>12300</td>\n      <td>4220038945</td>\n      <td>ET</td>\n      <td>165</td>\n    </tr>\n    <tr>\n      <th>2334185</th>\n      <td>43660711</td>\n      <td>113300007314000017</td>\n      <td>2018-08-14T10:54:16.188+04:00</td>\n      <td>1835071691</td>\n      <td>75404</td>\n      <td>14648.00</td>\n      <td>2014-04-03</td>\n      <td>2014-12-01</td>\n      <td>30.02.16.194</td>\n      <td>12300</td>\n      <td>1835087194</td>\n      <td>ET</td>\n      <td>243</td>\n    </tr>\n    <tr>\n      <th>5598201</th>\n      <td>36218913</td>\n      <td>173300003514000003</td>\n      <td>2019-03-20T10:47:20.270+03:00</td>\n      <td>7714070430</td>\n      <td>75404</td>\n      <td>94942.00</td>\n      <td>2014-07-01</td>\n      <td>2014-12-01</td>\n      <td>72.60.10.000</td>\n      <td>12300</td>\n      <td>7736199349</td>\n      <td>ET</td>\n      <td>154</td>\n    </tr>\n    <tr>\n      <th>8684859</th>\n      <td>40735978</td>\n      <td>172300001914000051</td>\n      <td>2018-03-19T16:24:34.191+03:00</td>\n      <td>7825453050</td>\n      <td>75404</td>\n      <td>414630.00</td>\n      <td>2014-07-03</td>\n      <td>2014-12-01</td>\n      <td>&lt;Element '{http://zakupki.gov.ru/oos/types/1}c...</td>\n      <td>12300</td>\n      <td>7802137274</td>\n      <td>ET</td>\n      <td>152</td>\n    </tr>\n    <tr>\n      <th>...</th>\n      <td>...</td>\n      <td>...</td>\n      <td>...</td>\n      <td>...</td>\n      <td>...</td>\n      <td>...</td>\n      <td>...</td>\n      <td>...</td>\n      <td>...</td>\n      <td>...</td>\n      <td>...</td>\n      <td>...</td>\n      <td>...</td>\n    </tr>\n    <tr>\n      <th>13115102</th>\n      <td>62200966</td>\n      <td>3424000680720000010</td>\n      <td>2020-12-28T15:54:39.692+07:00</td>\n      <td>4240006807</td>\n      <td>75403</td>\n      <td>141692.96</td>\n      <td>2020-11-18</td>\n      <td>2020-12-30</td>\n      <td>&lt;Element '{http://zakupki.gov.ru/oos/types/1}c...</td>\n      <td>12300</td>\n      <td>4205262886</td>\n      <td>ET</td>\n      <td>43</td>\n    </tr>\n    <tr>\n      <th>11829127</th>\n      <td>62614308</td>\n      <td>3381901087120000013</td>\n      <td>2021-01-15T08:29:33.882+08:00</td>\n      <td>3819010871</td>\n      <td>75403</td>\n      <td>46620.00</td>\n      <td>2020-11-23</td>\n      <td>2020-12-31</td>\n      <td>&lt;Element '{http://zakupki.gov.ru/oos/types/1}c...</td>\n      <td>12267</td>\n      <td>3840001848</td>\n      <td>ET</td>\n      <td>39</td>\n    </tr>\n    <tr>\n      <th>10049075</th>\n      <td>61614844</td>\n      <td>3504009579120000016</td>\n      <td>2020-12-28T12:51:46.637+03:00</td>\n      <td>5040095791</td>\n      <td>75403</td>\n      <td>101569.26</td>\n      <td>2020-11-24</td>\n      <td>2020-12-31</td>\n      <td>&lt;Element '{http://zakupki.gov.ru/oos/types/1}c...</td>\n      <td>12300</td>\n      <td>7724364407</td>\n      <td>ET</td>\n      <td>38</td>\n    </tr>\n    <tr>\n      <th>11828822</th>\n      <td>62652893</td>\n      <td>3381901087120000014</td>\n      <td>2021-01-18T08:10:22.099+08:00</td>\n      <td>3819010871</td>\n      <td>75403</td>\n      <td>134760.44</td>\n      <td>2020-11-26</td>\n      <td>2020-12-31</td>\n      <td>&lt;Element '{http://zakupki.gov.ru/oos/types/1}c...</td>\n      <td>12267</td>\n      <td>3840001848</td>\n      <td>ET</td>\n      <td>36</td>\n    </tr>\n    <tr>\n      <th>14716077</th>\n      <td>62776870</td>\n      <td>3190112923420000075</td>\n      <td>2021-01-19T11:19:14.402+07:00</td>\n      <td>1901129234</td>\n      <td>75404</td>\n      <td>178274.58</td>\n      <td>2020-12-16</td>\n      <td>2020-12-31</td>\n      <td>&lt;Element '{http://zakupki.gov.ru/oos/types/1}c...</td>\n      <td>12300</td>\n      <td>1901064509</td>\n      <td>ET</td>\n      <td>16</td>\n    </tr>\n  </tbody>\n</table>\n<p>3007 rows × 13 columns</p>\n</div>"
     },
     "execution_count": 95,
     "metadata": {},
     "output_type": "execute_result"
    }
   ],
   "source": [
    "data[data['current_contract_stage']=='ET']"
   ],
   "metadata": {
    "collapsed": false,
    "ExecuteTime": {
     "end_time": "2023-06-11T13:04:43.841714500Z",
     "start_time": "2023-06-11T13:04:43.792558800Z"
    }
   }
  },
  {
   "cell_type": "code",
   "execution_count": null,
   "outputs": [],
   "source": [],
   "metadata": {
    "collapsed": false
   }
  }
 ]
}
